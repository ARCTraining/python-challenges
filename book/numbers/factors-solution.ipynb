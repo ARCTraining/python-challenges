{
 "cells": [
  {
   "cell_type": "markdown",
   "metadata": {},
   "source": [
    "# Solution: Factors\n",
    "\n",
    "Write a function that returns a list of all the factors (divisors) of a given integer number."
   ]
  },
  {
   "cell_type": "markdown",
   "metadata": {},
   "source": [
    "## Function definition"
   ]
  },
  {
   "cell_type": "code",
   "execution_count": null,
   "metadata": {},
   "outputs": [],
   "source": [
    "def get_factors(x):\n",
    "\n",
    "    factors = []\n",
    "    half = x // 2 # Floor operator - integer result\n",
    "\n",
    "    for i in range(1, half + 1):\n",
    "        if x % i == 0: # Modulus operator\n",
    "            factors.append(i)\n",
    "\n",
    "    factors.append(x)\n",
    "    \n",
    "    # return the factors list\n",
    "    return factors"
   ]
  },
  {
   "cell_type": "markdown",
   "metadata": {},
   "source": [
    "or using list comprehension:"
   ]
  },
  {
   "cell_type": "code",
   "execution_count": null,
   "metadata": {},
   "outputs": [],
   "source": [
    "def get_factors(x):\n",
    "\n",
    "    factors = [i for i in range(1, x//2+1) if x%i==0]\n",
    "    factors.append(x)\n",
    "    \n",
    "    # return the factors list\n",
    "    return factors"
   ]
  },
  {
   "cell_type": "markdown",
   "metadata": {},
   "source": [
    "## Testing\n",
    "\n",
    "Check if your function returns the expected value using the cell below."
   ]
  },
  {
   "cell_type": "code",
   "execution_count": null,
   "metadata": {},
   "outputs": [],
   "source": [
    "import unittest\n",
    "\n",
    "class UnitTests(unittest.TestCase):\n",
    "    def test_type(self):\n",
    "        self.assertEqual(type(get_factors(10)), type([10]), 'The function should return a list')\n",
    "    def test_size(self):\n",
    "        self.assertEqual(len(get_factors(100)), 9, 'The function should return a list with lenght=9')\n",
    "    def test_result_odd(self):\n",
    "        self.assertEqual(get_factors(101), [1, 101])\n",
    "    def test_result_even(self):\n",
    "        self.assertEqual(get_factors(200), [1, 2, 4, 5, 8, 10, 20, 25, 40, 50, 100, 200])\n",
    "\n",
    "unittest.main(argv=[''], verbosity=2,exit=False)"
   ]
  }
 ],
 "metadata": {
  "kernelspec": {
   "display_name": "Python 3.10.5 ('python-challenges')",
   "language": "python",
   "name": "python3"
  },
  "language_info": {
   "codemirror_mode": {
    "name": "ipython",
    "version": 3
   },
   "file_extension": ".py",
   "mimetype": "text/x-python",
   "name": "python",
   "nbconvert_exporter": "python",
   "pygments_lexer": "ipython3",
   "version": "3.10.5"
  },
  "orig_nbformat": 4,
  "vscode": {
   "interpreter": {
    "hash": "15fe12b1f81c85e1ce82926b71c2a5fbbda376c5c354355ef572278ba1760508"
   }
  }
 },
 "nbformat": 4,
 "nbformat_minor": 2
}
