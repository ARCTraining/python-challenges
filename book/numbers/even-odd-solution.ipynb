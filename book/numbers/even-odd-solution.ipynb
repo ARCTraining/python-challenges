{
 "cells": [
  {
   "cell_type": "markdown",
   "metadata": {},
   "source": [
    "# Solution: Even or Odd?\n",
    "\n",
    "Write a function that returns \n",
    "\n",
    "- `True` if the number is **Even**\n",
    "- `False` if the number is **Odd**."
   ]
  },
  {
   "cell_type": "markdown",
   "metadata": {},
   "source": [
    "## Function definition"
   ]
  },
  {
   "cell_type": "code",
   "execution_count": null,
   "metadata": {},
   "outputs": [],
   "source": [
    "def is_even(number):\n",
    "    remainder = number % 2\n",
    "\n",
    "    if remainder == 0:\n",
    "        return True\n",
    "    else:\n",
    "        return False"
   ]
  },
  {
   "cell_type": "markdown",
   "metadata": {},
   "source": [
    "The above structure can be simplified to just 1 line:"
   ]
  },
  {
   "cell_type": "code",
   "execution_count": null,
   "metadata": {},
   "outputs": [],
   "source": [
    "def is_even(number):\n",
    "    return number % 2 == 0"
   ]
  },
  {
   "cell_type": "markdown",
   "metadata": {},
   "source": [
    "## Testing\n",
    "\n",
    "Check if your function returns the expected value using the cell below."
   ]
  },
  {
   "cell_type": "code",
   "execution_count": null,
   "metadata": {},
   "outputs": [],
   "source": [
    "import unittest\n",
    "from random import randint\n",
    "\n",
    "class UnitTests(unittest.TestCase):\n",
    "    def test_type(self):\n",
    "        self.assertEqual(type(is_even(randint(-1000,1000))), type(False), 'The function should return a boolean operator')    \n",
    "    def test_even(self):\n",
    "        x = N = randint(-1000,1000)*2\n",
    "        self.assertEqual(is_even(x), True, 'Should return `True` for %d' %x)\n",
    "    def test_odd(self):\n",
    "        x = N = randint(-1000,1000)*2 + 1\n",
    "        self.assertEqual(is_even(x), False, 'Should return `False` for %d' %x)\n",
    "        \n",
    "unittest.main(argv=[''], verbosity=2,exit=False)"
   ]
  }
 ],
 "metadata": {
  "kernelspec": {
   "display_name": "Python 3.9.7 ('energyflex1')",
   "language": "python",
   "name": "python3"
  },
  "language_info": {
   "codemirror_mode": {
    "name": "ipython",
    "version": 3
   },
   "file_extension": ".py",
   "mimetype": "text/x-python",
   "name": "python",
   "nbconvert_exporter": "python",
   "pygments_lexer": "ipython3",
   "version": "3.9.7"
  },
  "orig_nbformat": 4,
  "vscode": {
   "interpreter": {
    "hash": "5870739fa4ba71958278aff77180908fe5ce9bde60880d434d997163407a3d4c"
   }
  }
 },
 "nbformat": 4,
 "nbformat_minor": 2
}
