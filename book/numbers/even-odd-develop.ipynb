{
 "cells": [
  {
   "cell_type": "markdown",
   "metadata": {},
   "source": [
    "# Write your code: Even or Odd?\n",
    "\n",
    "Write a function that returns \n",
    "\n",
    "- `True` if the number is **Even**\n",
    "- `False` if the number is **Odd**."
   ]
  },
  {
   "cell_type": "markdown",
   "metadata": {},
   "source": [
    "## Function definition"
   ]
  },
  {
   "cell_type": "code",
   "execution_count": null,
   "metadata": {},
   "outputs": [],
   "source": [
    "def is_even(number):\n",
    "\n",
    "    # write the code here\n"
   ]
  },
  {
   "cell_type": "markdown",
   "metadata": {},
   "source": [
    "## Testing\n",
    "\n",
    "Check if your function returns the expected value using the cell below."
   ]
  },
  {
   "cell_type": "code",
   "execution_count": null,
   "metadata": {},
   "outputs": [],
   "source": [
    "import unittest\n",
    "from random import randint\n",
    "\n",
    "class UnitTests(unittest.TestCase):\n",
    "    def test_type(self):\n",
    "        self.assertEqual(type(is_even(randint(-1000,1000))), type(False), 'The function should return a boolean operator')    \n",
    "    def test_even(self):\n",
    "        x = N = randint(-1000,1000)*2\n",
    "        self.assertEqual(is_even(x), True, 'Should return `True` for %d' %x)\n",
    "    def test_odd(self):\n",
    "        x = N = randint(-1000,1000)*2 + 1\n",
    "        self.assertEqual(is_even(x), False, 'Should return `False` for %d' %x)\n",
    "        \n",
    "unittest.main(argv=[''], verbosity=2,exit=False)"
   ]
  }
 ],
 "metadata": {
  "kernelspec": {
   "display_name": "Python 3.10.5 ('python-challenges')",
   "language": "python",
   "name": "python3"
  },
  "language_info": {
   "codemirror_mode": {
    "name": "ipython",
    "version": 3
   },
   "file_extension": ".py",
   "mimetype": "text/x-python",
   "name": "python",
   "nbconvert_exporter": "python",
   "pygments_lexer": "ipython3",
   "version": "3.10.5"
  },
  "orig_nbformat": 4,
  "vscode": {
   "interpreter": {
    "hash": "15fe12b1f81c85e1ce82926b71c2a5fbbda376c5c354355ef572278ba1760508"
   }
  }
 },
 "nbformat": 4,
 "nbformat_minor": 2
}
