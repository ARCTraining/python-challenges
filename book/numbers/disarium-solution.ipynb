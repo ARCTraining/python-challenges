{
 "cells": [
  {
   "cell_type": "markdown",
   "metadata": {},
   "source": [
    "# Solution: Disarium Number\n",
    "\n",
    "Write a function that determines whether a number is a Disarium (True) or not (False)."
   ]
  },
  {
   "cell_type": "markdown",
   "metadata": {},
   "source": [
    "## Function definition"
   ]
  },
  {
   "cell_type": "code",
   "execution_count": null,
   "metadata": {},
   "outputs": [],
   "source": [
    "def is_disarium(n):\n",
    "    total = 0\n",
    "    position = 1\n",
    "    for digit in str(n):\n",
    "        total = total + (int(digit)**position)\n",
    "        position = position + 1\n",
    "    \n",
    "    # return True or False\n",
    "    return total == n\n"
   ]
  },
  {
   "cell_type": "markdown",
   "metadata": {},
   "source": [
    "Using `enumerate()`:"
   ]
  },
  {
   "cell_type": "code",
   "execution_count": null,
   "metadata": {},
   "outputs": [],
   "source": [
    "def is_disarium(n):\n",
    "    total = 0\n",
    "    for position, digit in enumerate(str(n), start=1):\n",
    "        total = total + (int(digit)**position)\n",
    "    \n",
    "    # return True or False\n",
    "    return total == n\n"
   ]
  },
  {
   "cell_type": "markdown",
   "metadata": {},
   "source": [
    "Using `enumerate()` and `list comprehension`:"
   ]
  },
  {
   "cell_type": "code",
   "execution_count": null,
   "metadata": {},
   "outputs": [],
   "source": [
    "def is_disarium(n):\n",
    "    return sum([int(digit)**position for position, digit in enumerate(str(n), start=1)]) == n"
   ]
  },
  {
   "cell_type": "markdown",
   "metadata": {},
   "source": [
    "## Testing\n",
    "\n",
    "Check if your function returns the expected value using the cell below."
   ]
  },
  {
   "cell_type": "code",
   "execution_count": null,
   "metadata": {},
   "outputs": [],
   "source": [
    "import unittest\n",
    "\n",
    "class UnitTests(unittest.TestCase):\n",
    "    def test_type(self):\n",
    "        self.assertEqual(type(is_disarium(10)), type(False), 'The function should return a boolean operator')\n",
    "    def test_true(self):\n",
    "        self.assertEqual(is_disarium(89), True, 'The function should return True for the value 89')\n",
    "    def test_false(self):\n",
    "        self.assertEqual(is_disarium(100), False, 'The function should return False for the value 100')\n",
    "\n",
    "unittest.main(argv=[''], verbosity=2,exit=False)"
   ]
  }
 ],
 "metadata": {
  "kernelspec": {
   "display_name": "Python 3.9.7 ('energyflex1')",
   "language": "python",
   "name": "python3"
  },
  "language_info": {
   "codemirror_mode": {
    "name": "ipython",
    "version": 3
   },
   "file_extension": ".py",
   "mimetype": "text/x-python",
   "name": "python",
   "nbconvert_exporter": "python",
   "pygments_lexer": "ipython3",
   "version": "3.9.7"
  },
  "orig_nbformat": 4,
  "vscode": {
   "interpreter": {
    "hash": "5870739fa4ba71958278aff77180908fe5ce9bde60880d434d997163407a3d4c"
   }
  }
 },
 "nbformat": 4,
 "nbformat_minor": 2
}
