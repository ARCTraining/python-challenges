{
 "cells": [
  {
   "cell_type": "markdown",
   "metadata": {},
   "source": [
    "# Solution: The Drunkard's Walk"
   ]
  },
  {
   "cell_type": "markdown",
   "metadata": {},
   "source": [
    "## Functions definition"
   ]
  },
  {
   "cell_type": "markdown",
   "metadata": {},
   "source": [
    "### Step simulator\n",
    "\n",
    "> Write a function that works as a single step simulator.\n",
    "\n",
    "1. Function returns a `string` value between `forward`, `left` and `right`.\n",
    "2. Step is not \"fair\":\n",
    "   - 50% `forward`\n",
    "   - 25% `left`\n",
    "   - 25% `right`\n",
    "3. You can use any `random function` from the [`random` module](https://docs.python.org/3/library/random.html)."
   ]
  },
  {
   "cell_type": "code",
   "execution_count": 1,
   "metadata": {},
   "outputs": [],
   "source": [
    "from random import choices\n",
    "\n",
    "def step_simulator():\n",
    "    step = choices(['forward','left','right'], weights=[50, 25, 25])\n",
    "    return step[0]"
   ]
  },
  {
   "cell_type": "markdown",
   "metadata": {},
   "source": [
    "### Walk simulator\n",
    "\n",
    "> Write another function (walk simulator) that calls the single step\n",
    "> simulator several times to simulate an entire Sailor's trajectory, \n",
    "> which can end with the sailor falling into the `water` or reaching the `ship`\n",
    "\n",
    "1. Function returns a `string` value between `water` and `ship`.\n",
    "2. You should call the `step_simulator()` function.\n",
    "\n",
    "Variables:\n",
    "\n",
    "- **Bridge** Length (x direction) = 70 m\n",
    "- **Bridge** Width (y direction) = 14 m\n",
    "- **Sailor's** Step length: 70 cm\n",
    "- **Sailor's** starting x position: 0\n",
    "- **Sailor's** starting y position: Width/2\n",
    "- open `y` boundaries (the sailor may fall off the bridge)"
   ]
  },
  {
   "cell_type": "markdown",
   "metadata": {},
   "source": [
    "#### Option 1: Readable solution\n",
    "\n",
    "In this solution we use an `if/elif/else` statement block to associate the step direction (`forward`, `left`, `right`) with a change in position."
   ]
  },
  {
   "cell_type": "code",
   "execution_count": null,
   "metadata": {},
   "outputs": [],
   "source": [
    "def walk_simulator():\n",
    "    step_length = 0.7 # m\n",
    "    bridge_x = 70 # m\n",
    "    bridge_y = 14 # m\n",
    "    x = 0\n",
    "    y = bridge_y / 2\n",
    "    \n",
    "    while True:\n",
    "        step = step_simulator()\n",
    "\n",
    "        if step == 'forward':\n",
    "            x += step_length\n",
    "        elif step == 'left':\n",
    "            y += step_length\n",
    "        else:\n",
    "            y -= step_length\n",
    "\n",
    "        if (y<0) or (y > bridge_y):\n",
    "            return 'water'\n",
    "        elif (x >= bridge_x):\n",
    "            return 'ship'"
   ]
  },
  {
   "cell_type": "markdown",
   "metadata": {},
   "source": [
    "#### Option 2: Using a Dictionary\n",
    "\n",
    "In this solution we use a `Dictionary` to associate the step direction (`forward`, `left`, `right`) with a change in position."
   ]
  },
  {
   "cell_type": "code",
   "execution_count": 2,
   "metadata": {},
   "outputs": [],
   "source": [
    "def walk_simulator():\n",
    "    step_length = 0.7 # m\n",
    "    bridge_x = 70 # m\n",
    "    bridge_y = 14 # m\n",
    "    \n",
    "    x = 0\n",
    "    y = bridge_y/2\n",
    "\n",
    "    add_step = {\n",
    "        'forward': [step_length,0],\n",
    "        'left': [0,step_length],\n",
    "        'right': [0,-step_length]\n",
    "    }\n",
    "\n",
    "    while True:\n",
    "        step = step_simulator()\n",
    "        x += add_step[step][0]\n",
    "        y += add_step[step][1]\n",
    "\n",
    "        if (y<0) or (y > bridge_y):\n",
    "            return 'water'\n",
    "        elif (x >= bridge_x):\n",
    "            return 'ship'"
   ]
  },
  {
   "cell_type": "markdown",
   "metadata": {},
   "source": [
    "### Probability calculator\n",
    "\n",
    "> Finally, write a probability function that calls the walk simulator several \n",
    "> times to determine the approximate probability that the sailor will arrive\n",
    "> on the ship.\n",
    "\n",
    "1. Function returns a `float` value between `0` and `1`.\n",
    "2. Avoid using any knowledge of combinatorics to solve this problem. Instead, take advantage of the fact that the machine can simulate millions of steps/walks in a very short time.\n",
    "\n",
    "*Since this is based on random draws, the probability will be slightly different\n",
    "each time the code is run.*"
   ]
  },
  {
   "cell_type": "markdown",
   "metadata": {},
   "source": [
    "#### Option 1: Readable solution"
   ]
  },
  {
   "cell_type": "code",
   "execution_count": 3,
   "metadata": {},
   "outputs": [],
   "source": [
    "def get_probability():\n",
    "    N = 10_000\n",
    "    p = 0\n",
    "    for _ in range(N):\n",
    "        walk = walk_simulator()\n",
    "        if walk == 'ship':\n",
    "            p += 1\n",
    "\n",
    "    return(p/N)"
   ]
  },
  {
   "cell_type": "markdown",
   "metadata": {},
   "source": [
    "#### Option 2: Using List Comprehension, if and sum()"
   ]
  },
  {
   "cell_type": "code",
   "execution_count": null,
   "metadata": {},
   "outputs": [],
   "source": [
    "def get_probability():\n",
    "    N = 10_000\n",
    "    walk = [1 for _ in range(N) if walk_simulator()=='ship']  # list of ones\n",
    "    p = sum(walk)\n",
    "\n",
    "    return(p/N)"
   ]
  },
  {
   "cell_type": "markdown",
   "metadata": {},
   "source": [
    "#### Option 3: Using List Comprehension and count()"
   ]
  },
  {
   "cell_type": "code",
   "execution_count": null,
   "metadata": {},
   "outputs": [],
   "source": [
    "def get_probability():\n",
    "    N = 10_000\n",
    "    walk = [walk_simulator() for _ in range(N)]  # list of \"ship\" and \"water\"\n",
    "    p = walk.count('ship')\n",
    "\n",
    "    return(p/N)"
   ]
  },
  {
   "cell_type": "markdown",
   "metadata": {},
   "source": [
    "## Testing\n",
    "\n",
    "Check if your function returns the expected value using the cell below."
   ]
  },
  {
   "cell_type": "code",
   "execution_count": 4,
   "metadata": {},
   "outputs": [
    {
     "name": "stderr",
     "output_type": "stream",
     "text": [
      "test_probability_ship (__main__.UnitTests) ... ok\n",
      "test_step_forward (__main__.UnitTests) ... ok\n",
      "test_step_left (__main__.UnitTests) ... ok\n",
      "test_step_right (__main__.UnitTests) ... ok\n",
      "test_step_type (__main__.UnitTests) ... ok\n",
      "test_step_value (__main__.UnitTests) ... ok\n",
      "test_walk_type (__main__.UnitTests) ... ok\n",
      "test_walk_value (__main__.UnitTests) ... ok\n",
      "\n",
      "----------------------------------------------------------------------\n",
      "Ran 8 tests in 3.488s\n",
      "\n",
      "OK\n"
     ]
    },
    {
     "data": {
      "text/plain": [
       "<unittest.main.TestProgram at 0x7f42bb271760>"
      ]
     },
     "execution_count": 4,
     "metadata": {},
     "output_type": "execute_result"
    }
   ],
   "source": [
    "import unittest\n",
    "\n",
    "class UnitTests(unittest.TestCase):\n",
    "\n",
    "    def setUp(self):\n",
    "        self.N = 1000\n",
    "        self.step = step_simulator()\n",
    "        self.steps = [step_simulator() for _ in range(self.N)]\n",
    "\n",
    "        self.walk = walk_simulator()\n",
    "        self.walks = [walk_simulator() for _ in range(100)]\n",
    "\n",
    "\n",
    "    def test_step_type(self):\n",
    "        self.assertTrue(isinstance(self.step, str), 'The function should return a string')\n",
    "    def test_step_value(self):\n",
    "        self.assertTrue(sorted(set(self.steps)) == ['forward','left','right'], 'The function should return `forward`,`left` or `right`.')\n",
    "    def test_step_forward(self):\n",
    "        counts = self.steps.count('forward')/self.N\n",
    "        self.assertAlmostEqual(counts, 0.5, places=1, msg=f'The drunk should have 0.50 chance to step forward.')\n",
    "    def test_step_left(self):\n",
    "        counts = self.steps.count('left')/self.N\n",
    "        self.assertAlmostEqual(counts, 0.25, places=1, msg=f'The drunk should have 0.25 chance to step left.')\n",
    "    def test_step_right(self):\n",
    "        counts = self.steps.count('right')/self.N\n",
    "        self.assertAlmostEqual(counts, 0.25, places=1, msg=f'The drunk should have 0.25 chance to step right.')\n",
    "\n",
    "    def test_walk_type(self):\n",
    "        self.assertTrue(isinstance(self.walk, str), 'The function should return a string')\n",
    "    def test_walk_value(self):\n",
    "        self.assertTrue(sorted(set(self.walks)) == ['ship', 'water'], 'The function should return `ship` or `water`.')\n",
    "\n",
    "    def test_probability_ship(self):\n",
    "        self.assertAlmostEqual(get_probability(), 0.4, places=1, msg='The function should return around 0.4 of success.')          \n",
    "\n",
    "\n",
    "unittest.main(argv=[''], verbosity=2,exit=False)"
   ]
  }
 ],
 "metadata": {
  "kernelspec": {
   "display_name": "Python 3.8.13 ('python-challenges-book')",
   "language": "python",
   "name": "python3"
  },
  "language_info": {
   "codemirror_mode": {
    "name": "ipython",
    "version": 3
   },
   "file_extension": ".py",
   "mimetype": "text/x-python",
   "name": "python",
   "nbconvert_exporter": "python",
   "pygments_lexer": "ipython3",
   "version": "3.8.13"
  },
  "orig_nbformat": 4,
  "vscode": {
   "interpreter": {
    "hash": "a75f8336f8263f9f845bafc0060e83937aec5a7c1798b43064e667ac98e36061"
   }
  }
 },
 "nbformat": 4,
 "nbformat_minor": 2
}
