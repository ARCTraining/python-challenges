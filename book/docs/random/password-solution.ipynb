{
 "cells": [
  {
   "cell_type": "markdown",
   "metadata": {},
   "source": [
    "# Solution: Random Password\n",
    "\n",
    "> Write a function that works as a Random **Strong** Password Generator.\n",
    "\n",
    "## Rules\n",
    "\n",
    "1. Function returns a string\n",
    "2. Length between 8 and 24 characters\n",
    "3. At least one uppercase letter (`A-Z`)\n",
    "4. At least one lowercase letter (`a-z`)\n",
    "5. At least one digit (`0-9`)\n",
    "6. It contains at least one special character (`!@#$%^&*()+=`)\n",
    "7. Maximum of 2 repeated characters (regardless of order)\n",
    "8. Always return a different password\n",
    "9. You can use any `random function` from the [`random` module](https://docs.python.org/3/library/random.html)\n",
    "\n",
    "## Useful Links\n",
    "\n",
    "- [Python Strings](https://www.w3schools.com/python/python_strings.asp)\n",
    "- [Python String Methods](https://www.w3schools.com/python/python_strings_methods.asp)\n",
    "  - Specially: `isdigit()`, `islower()`, `isupper()`, `join()`\n",
    "- [Python - Modify Strings](https://www.w3schools.com/python/python_strings_modify.asp)\n",
    "- [Python Built in Functions](https://www.w3schools.com/python/python_ref_functions.asp)\n",
    "  - Specially: `all()`, `any()`, `len()`"
   ]
  },
  {
   "cell_type": "markdown",
   "metadata": {},
   "source": [
    "## Function Definition"
   ]
  },
  {
   "cell_type": "code",
   "execution_count": 31,
   "metadata": {},
   "outputs": [],
   "source": [
    "from random import choice, choices\n",
    "\n",
    "def password_generator():\n",
    "\n",
    "    def password_validator(password):\n",
    "        type = isinstance(password, str)  # rule 1: type: string\n",
    "        length = 8 <= len(password) <= 24  # rule 2: length: 8-24\n",
    "        upper = any(char.isupper() for char in password)  # rule 3: upper-letter\n",
    "        lower = any(char.islower() for char in password)  # rule 4: lower-letter\n",
    "        numeric = any(char.isdigit() for char in password)  # rule 5: numeric character\n",
    "        special = any(char in \"!@#$%^&*()+=\" for char in password)  # rule 6: special character\n",
    "        repeated = all(password.count(char)<3 for char in password)  # rule 7: max 2 repeated characters\n",
    "        rules = (type, length, upper, lower, numeric, special, repeated)\n",
    "        return all(rules) # if any rule is false, then return false.\n",
    "\n",
    "    # Parameters definition\n",
    "    min_length = 8\n",
    "    upper_letters = \"ABCDEFGHIJKLMNOPQRSTUVWXYZ\"  # or \"\".join([chr(i) for i in range(ord(\"A\"), ord(\"Z\")+1, 1)])\n",
    "    lower_letters = \"abcdefghijklmnopqrstuvwxyz\"  # or \"\".join([chr(i) for i in range(ord(\"a\"), ord(\"z\")+1, 1)])  # or upper_letters.lower()\n",
    "    numbers = \"0123456789\"  # or \"\".join([chr(i) for i in range(ord(\"0\"), ord(\"9\")+1, 1)])\n",
    "    special_characters = \"!@#$%^&*()+=\"\n",
    "    all_characters = \"\".join([upper_letters, lower_letters, numbers, special_characters])\n",
    "\n",
    "    # Base password generation\n",
    "    password = \"\".join(choices(all_characters, k=min_length))\n",
    "\n",
    "    # Verify if all requirements are fulfilled\n",
    "    strong = password_validator(password)\n",
    "\n",
    "    # If not: Add a new character every iteration until fulfil all requirements\n",
    "    while not strong:\n",
    "        password += choice(all_characters)\n",
    "        strong = password_validator(password)\n",
    "\n",
    "        # Note that after a while the validator will always fail for length and repeated\n",
    "        # To avoid infinity iterations, reset password after reach 24 chr size.\n",
    "        if len(password)>24:\n",
    "            password = \"\".join(choices(all_characters, k=min_length))\n",
    "\n",
    "    return password"
   ]
  },
  {
   "cell_type": "markdown",
   "metadata": {},
   "source": [
    "## Testing\n",
    "\n",
    "Check if your function returns the expected value using the cell below."
   ]
  },
  {
   "cell_type": "code",
   "execution_count": null,
   "metadata": {},
   "outputs": [],
   "source": [
    "import unittest\n",
    "\n",
    "class UnitTests(unittest.TestCase):\n",
    "    def setUp(self):\n",
    "        self.password = password_generator()\n",
    "        self.passwords = [password_generator() for _ in range(10)]\n",
    "\n",
    "    def test_password_type(self):\n",
    "        self.assertTrue(isinstance(self.password, str), 'The function should return a string')\n",
    "    def test_password_min_size(self):\n",
    "        self.assertGreater(len(self.password), 7, \"The function should return a password with minimum length of 8 characters\")\n",
    "    def test_password_max_size(self):\n",
    "        self.assertLess(len(self.password), 25, \"The function should return a password with maximum length of 24 characters\")\n",
    "    def test_upper(self):\n",
    "        self.assertTrue(any(char.isupper() for char in self.password), \"The function should return a password with at least 1 upper-case letter\")\n",
    "    def test_lower(self):\n",
    "        self.assertTrue(any(char.islower() for char in self.password), \"The function should return a password with at least 1 lower-case letter\")\n",
    "    def test_numeric(self):\n",
    "        self.assertTrue(any(char.isdigit() for char in self.password), \"The function should return a password with at least 1 number\")\n",
    "    def test_special(self):\n",
    "        self.assertTrue(any(char in \"!@#$%^&*()+=\" for char in self.password), \"The function should return a password with at least 1 special character\")     \n",
    "    def test_repeated_char(self):\n",
    "        self.assertTrue(all(self.password.count(char)<3 for char in self.password), \"The function should return a password with a maximum of 2 repeated character\")\n",
    "    def test_unique_password(self):\n",
    "        self.assertEqual(len(self.passwords), len(set(self.passwords)), \"The function should return an unique password\")\n",
    "\n",
    "unittest.main(argv=[''], verbosity=2,exit=False)"
   ]
  }
 ],
 "metadata": {
  "kernelspec": {
   "display_name": "Python 3.10.5 ('python-challenges')",
   "language": "python",
   "name": "python3"
  },
  "language_info": {
   "codemirror_mode": {
    "name": "ipython",
    "version": 3
   },
   "file_extension": ".py",
   "mimetype": "text/x-python",
   "name": "python",
   "nbconvert_exporter": "python",
   "pygments_lexer": "ipython3",
   "version": "3.10.5"
  },
  "orig_nbformat": 4,
  "vscode": {
   "interpreter": {
    "hash": "15fe12b1f81c85e1ce82926b71c2a5fbbda376c5c354355ef572278ba1760508"
   }
  }
 },
 "nbformat": 4,
 "nbformat_minor": 2
}
