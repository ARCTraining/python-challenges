{
 "cells": [
  {
   "cell_type": "markdown",
   "metadata": {},
   "source": [
    "# Write your code: Random Password\n",
    "\n",
    "> Write a function that works as a Random **Strong** Password Generator.\n",
    "\n",
    "## Rules\n",
    "\n",
    "1. Function returns a string\n",
    "2. Length between 8 and 24 characters\n",
    "3. At least one uppercase letter (`A-Z`)\n",
    "4. At least one lowercase letter (`a-z`)\n",
    "5. At least one digit (`0-9`)\n",
    "6. It contains at least one special character (`!@#$%^&*()+=`)\n",
    "7. Maximum of 2 repeated characters (regardless of order)\n",
    "8. Always return a different password\n",
    "9. You can use any `random function` from the [`random` module](https://docs.python.org/3/library/random.html)\n",
    "\n",
    "## Useful Links\n",
    "\n",
    "- [Python Strings](https://www.w3schools.com/python/python_strings.asp)\n",
    "- [Python String Methods](https://www.w3schools.com/python/python_strings_methods.asp)\n",
    "  - Specially: `isdigit()`, `islower()`, `isupper()`, `join()`\n",
    "- [Python - Modify Strings](https://www.w3schools.com/python/python_strings_modify.asp)\n",
    "- [Python Built in Functions](https://www.w3schools.com/python/python_ref_functions.asp)\n",
    "  - Specially: `all()`, `any()`, `len()`"
   ]
  },
  {
   "cell_type": "markdown",
   "metadata": {},
   "source": [
    "## Function Definition"
   ]
  },
  {
   "cell_type": "code",
   "execution_count": null,
   "metadata": {},
   "outputs": [],
   "source": [
    "from random import # add function\n",
    "\n",
    "def password_generator():\n",
    "\n",
    "    # write your code here"
   ]
  },
  {
   "cell_type": "markdown",
   "metadata": {},
   "source": [
    "## Testing\n",
    "\n",
    "Check if your function returns the expected value using the cell below."
   ]
  },
  {
   "cell_type": "code",
   "execution_count": null,
   "metadata": {},
   "outputs": [],
   "source": [
    "import unittest\n",
    "\n",
    "class UnitTests(unittest.TestCase):\n",
    "    def test_password_type(self):\n",
    "        self.assertTrue(isinstance(password_generator(), str), 'The function should return a string')\n",
    "    def test_password_min_size(self):\n",
    "        self.assertGreater(len(password_generator()), 7, \"The function should return a password with minimum length of 8 characters\")\n",
    "    def test_password_max_size(self):\n",
    "        self.assertLess(len(password_generator()), 25, \"The function should return a password with maximum length of 24 characters\")\n",
    "    def test_upper(self):\n",
    "        self.assertTrue(any(char.isupper() for char in password_generator()), \"The function should return a password with at least 1 upper-case letter\")\n",
    "    def test_lower(self):\n",
    "        self.assertTrue(any(char.islower() for char in password_generator()), \"The function should return a password with at least 1 lower-case letter\")\n",
    "    def test_numeric(self):\n",
    "        self.assertTrue(any(char.isdigit() for char in password_generator()), \"The function should return a password with at least 1 number\")\n",
    "    def test_special(self):\n",
    "        self.assertTrue(any(char in \"!@#$%^&*()+=\" for char in password_generator()), \"The function should return a password with at least 1 special character\")     \n",
    "    def test_repeated_char(self):\n",
    "        password = password_generator()\n",
    "        self.assertTrue(all(password.count(char)<3 for char in password), \"The function should return a password with a maximum of 2 repeated character\")\n",
    "    def test_unique_password(self):\n",
    "        passwords = [password_generator() for _ in range(10)]\n",
    "        self.assertEqual(len(passwords), len(set(passwords)), \"The function should return an unique password\")\n",
    "\n",
    "unittest.main(argv=[''], verbosity=2,exit=False)"
   ]
  }
 ],
 "metadata": {
  "kernelspec": {
   "display_name": "Python 3.10.5 ('python-challenges')",
   "language": "python",
   "name": "python3"
  },
  "language_info": {
   "codemirror_mode": {
    "name": "ipython",
    "version": 3
   },
   "file_extension": ".py",
   "mimetype": "text/x-python",
   "name": "python",
   "nbconvert_exporter": "python",
   "pygments_lexer": "ipython3",
   "version": "3.10.5"
  },
  "orig_nbformat": 4,
  "vscode": {
   "interpreter": {
    "hash": "15fe12b1f81c85e1ce82926b71c2a5fbbda376c5c354355ef572278ba1760508"
   }
  }
 },
 "nbformat": 4,
 "nbformat_minor": 2
}
