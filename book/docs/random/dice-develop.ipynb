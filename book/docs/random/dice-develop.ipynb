{
 "cells": [
  {
   "cell_type": "markdown",
   "metadata": {},
   "source": [
    "# Write your code: Rolling a Dice\n",
    "\n",
    "> Write a function that works as a dice-rolling simulator.\n",
    "\n",
    "## Rules\n",
    "\n",
    "1. Dice type: Cube (6 faces).\n",
    "2. Dice is fair: equal chance of rolling any value.\n",
    "3. The function must return an `integer` value corresponding to the rolled face.\n",
    "4. You can use any `function` from the [`random` module](https://docs.python.org/3/library/random.html)"
   ]
  },
  {
   "cell_type": "markdown",
   "metadata": {},
   "source": [
    "## Function definition"
   ]
  },
  {
   "cell_type": "code",
   "execution_count": null,
   "metadata": {},
   "outputs": [],
   "source": [
    "from random import randint\n",
    "\n",
    "def dice_rolling():\n",
    "    \n",
    "    # write your code here"
   ]
  },
  {
   "cell_type": "markdown",
   "metadata": {},
   "source": [
    "## Testing\n",
    "\n",
    "Check if your function returns the expected value using the cell below."
   ]
  },
  {
   "cell_type": "code",
   "execution_count": null,
   "metadata": {},
   "outputs": [],
   "source": [
    "import unittest\n",
    "from scipy import stats\n",
    "import numpy as np\n",
    "\n",
    "class UnitTests(unittest.TestCase):\n",
    "    def test_type(self):\n",
    "        self.assertTrue(isinstance(dice_rolling(), int), 'The function should return an integer')\n",
    "    def test_min_value(self):\n",
    "        self.assertTrue(all(dice_rolling() >= 1 for _ in range(1000)), 'The function should return a minimum value of 1')\n",
    "    def test_max_value(self):\n",
    "        self.assertTrue(all(dice_rolling() <= 6 for _ in range(1000)), 'The function should return a maximum value of 6')\n",
    "    def test_uniform_distribution(self):\n",
    "        faces = [dice_rolling() for _ in range(100000)]\n",
    "        hist, edges = np.histogram(faces, bins=[1,2,3,4,5,6,7], density=True)\n",
    "        for i in range(6):\n",
    "            self.assertAlmostEqual(hist[i], 1/6, places=2, msg=f'The side {i+1} should be rolled with a probability of 0.16')\n",
    "\n",
    "unittest.main(argv=[''], verbosity=2,exit=False)"
   ]
  }
 ],
 "metadata": {
  "kernelspec": {
   "display_name": "Python 3.10.5 ('python-challenges')",
   "language": "python",
   "name": "python3"
  },
  "language_info": {
   "codemirror_mode": {
    "name": "ipython",
    "version": 3
   },
   "file_extension": ".py",
   "mimetype": "text/x-python",
   "name": "python",
   "nbconvert_exporter": "python",
   "pygments_lexer": "ipython3",
   "version": "3.10.5"
  },
  "orig_nbformat": 4,
  "vscode": {
   "interpreter": {
    "hash": "15fe12b1f81c85e1ce82926b71c2a5fbbda376c5c354355ef572278ba1760508"
   }
  }
 },
 "nbformat": 4,
 "nbformat_minor": 2
}
