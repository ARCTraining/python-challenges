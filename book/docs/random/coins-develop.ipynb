{
 "cells": [
  {
   "cell_type": "markdown",
   "metadata": {},
   "source": [
    "# Write your code: Tossing Coins\n",
    "\n",
    "> Write a function that works as a coin-flipper simulator.\n",
    "> Then, write another function that returns the approximate probability of\n",
    "> getting a certain result combination for `2` tosses (regardless of order)."
   ]
  },
  {
   "cell_type": "markdown",
   "metadata": {},
   "source": [
    "## Function definition"
   ]
  },
  {
   "cell_type": "markdown",
   "metadata": {},
   "source": [
    "### Coin Flipper Simulator\n",
    "\n",
    "1. Coin type: 2 faces: `head` and `tail`.\n",
    "2. Coin is fair: equal chance of flipping `head` or `tail`.\n",
    "3. The function must return a `string` value corresponding to the tossed face (`head` or `tail`).\n",
    "4. You can use any `random function` from the [`random` module](https://docs.python.org/3/library/random.html)."
   ]
  },
  {
   "cell_type": "code",
   "execution_count": null,
   "metadata": {},
   "outputs": [],
   "source": [
    "from random import choice\n",
    "\n",
    "def coin_flipper():\n",
    "    coin = choice(['head','tail'])\n",
    "    return coin"
   ]
  },
  {
   "cell_type": "markdown",
   "metadata": {},
   "source": [
    "### Probability calculator\n",
    "\n",
    "1. Function that accepts `two` `string` inputs corresponding to the desired tossed faces, where:\n",
    "   - The first input is necessary;\n",
    "   - If no second input is given, it should should default to an empty string.\n",
    "2. Function returns a `float` value between `0` and `1`.\n",
    "3. Avoid using any knowledge of combinatorics to solve this problem. Instead, take advantage of the fact that the machine can simulate millions of tosses (samples) in a very short time.\n",
    "\n",
    "\n",
    ">Since this is based on random draws, the probability will be slightly different\n",
    ">each time the code is run.\n",
    ">**So, the greater the number of samples, the more consistent the results.**"
   ]
  },
  {
   "cell_type": "code",
   "execution_count": null,
   "metadata": {},
   "outputs": [],
   "source": [
    "def get_probability(toss1, toss2=''):\n",
    "    \n",
    "    # write your code here"
   ]
  },
  {
   "cell_type": "markdown",
   "metadata": {},
   "source": [
    "## Testing\n",
    "\n",
    "Check if your function returns the expected value using the cell below."
   ]
  },
  {
   "cell_type": "code",
   "execution_count": null,
   "metadata": {},
   "outputs": [],
   "source": [
    "import unittest\n",
    "\n",
    "class UnitTests(unittest.TestCase):\n",
    "    def test_coin_type(self):\n",
    "        self.assertTrue(isinstance(type(coin_flipper()), str), 'The function should return a string')\n",
    "    def test_coin_head_tail(self):\n",
    "        self.assertTrue(sorted(set(coin_flipper() for _ in range(100000))) == ['head', 'tail'], 'The function should return `head` or `tail`.')\n",
    "    def test_coin_fairness(self):\n",
    "        counts = [coin_flipper() for _ in range(100000)].count('head')/100000\n",
    "        self.assertAlmostEqual(counts, 0.5, places=2, msg=f'The side should be rolled with a probability of 0.50')\n",
    "\n",
    "    def test_probability_type(self):\n",
    "        self.assertEqual(type(get_probability('head','head')), type(10.0), 'The function should return a float')\n",
    "    def test_probability_two_heads(self):\n",
    "        self.assertAlmostEqual(get_probability('head','head'), 1/4, places=2, msg='The function should return 0.25 for two heads.')\n",
    "    def test_probability_two_tails(self):\n",
    "        self.assertAlmostEqual(get_probability('tail','tail'), 1/4, places=2, msg='The function should return 0.25 for two tails.')\n",
    "    def test_probability_head_tail(self):\n",
    "        self.assertAlmostEqual(get_probability('head','tail'), 1/2, places=2, msg='The function should return 0.50 for one head and one tail.')\n",
    "    def test_probability_tail_head(self):\n",
    "        self.assertAlmostEqual(get_probability('tail','head'), 1/2, places=2, msg='The function should return 0.50 for one tail and one head.')\n",
    "    def test_probability_atLeast_head(self):\n",
    "        self.assertAlmostEqual(get_probability('head'), 3/4, places=2, msg='The function should return 0.75 for at least one head.')        \n",
    "    def test_probability_atLeast_tail(self):\n",
    "        self.assertAlmostEqual(get_probability('tail'), 3/4, places=2, msg='The function should return 0.75 for at least one tail.')        \n",
    "\n",
    "\n",
    "unittest.main(argv=[''], verbosity=2,exit=False)"
   ]
  }
 ],
 "metadata": {
  "kernelspec": {
   "display_name": "Python 3.10.5 ('python-challenges')",
   "language": "python",
   "name": "python3"
  },
  "language_info": {
   "codemirror_mode": {
    "name": "ipython",
    "version": 3
   },
   "file_extension": ".py",
   "mimetype": "text/x-python",
   "name": "python",
   "nbconvert_exporter": "python",
   "pygments_lexer": "ipython3",
   "version": "3.10.5"
  },
  "orig_nbformat": 4,
  "vscode": {
   "interpreter": {
    "hash": "15fe12b1f81c85e1ce82926b71c2a5fbbda376c5c354355ef572278ba1760508"
   }
  }
 },
 "nbformat": 4,
 "nbformat_minor": 2
}
