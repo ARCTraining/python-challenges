{
 "cells": [
  {
   "cell_type": "markdown",
   "metadata": {},
   "source": [
    "# Solution: Minor of Matrix\n",
    "\n",
    "> Write a function that returns the Minor of Matrix of a 3x3 Matrix for a given\n",
    "> line $(i)$ and column $(j)$\n",
    "\n",
    "## Rules\n",
    "\n",
    "1. Function returns a Numpy ndarray of shape=2x2\n",
    "2. Function should work for all possible $i,j$ combination"
   ]
  },
  {
   "cell_type": "markdown",
   "metadata": {},
   "source": [
    "## Solution\n",
    "\n",
    "We are going to explore two solution types\n",
    "\n",
    "1. Using `numpy.delete`: this function deletes entire rows or columns\n",
    "2. Using advanced indexation and `numpy broadcasting`\n",
    "\n",
    "The solution using the delete function is quite straightforward and simple, \n",
    "however, learning how to use advanced indexing and broadcasting can be very \n",
    "useful, so if you can, take the time to analyse this type of solution.\n"
   ]
  },
  {
   "cell_type": "markdown",
   "metadata": {},
   "source": [
    "### Using `numpy.delete`"
   ]
  },
  {
   "cell_type": "code",
   "execution_count": 1,
   "metadata": {},
   "outputs": [],
   "source": [
    "import numpy as np\n",
    "\n",
    "A = np.array([[ 9, 12, 18],\n",
    "              [ 2, -2,  5],\n",
    "              [11,-17, 19]]\n",
    "            )"
   ]
  },
  {
   "cell_type": "code",
   "execution_count": 2,
   "metadata": {},
   "outputs": [
    {
     "data": {
      "text/plain": [
       "array([[ 2,  5],\n",
       "       [11, 19]])"
      ]
     },
     "execution_count": 2,
     "metadata": {},
     "output_type": "execute_result"
    }
   ],
   "source": [
    "def get_minor_ij(A, i, j):\n",
    "\n",
    "    A = np.delete(A, i-1, axis=0) # remove a row (axis=0)\n",
    "    A = np.delete(A, j-1, axis=1) # remove a column (axis=1)\n",
    "\n",
    "    return A\n",
    "\n",
    "get_minor_ij(A, 1, 2)"
   ]
  },
  {
   "cell_type": "markdown",
   "metadata": {},
   "source": [
    "### Using Advanced Indexation\n",
    "\n",
    "#### Wrong solution\n",
    "\n",
    "I know it seems a little weird that I come up with a wrong solution, but as I\n",
    "believe this is a pretty common mistake, I'll present it and then discuss \n",
    "solutions."
   ]
  },
  {
   "cell_type": "code",
   "execution_count": 3,
   "metadata": {},
   "outputs": [],
   "source": [
    "def get_minor_ij(A, i, j):\n",
    "\n",
    "    # create line and column lists\n",
    "    line   = [0, 1, 2]\n",
    "    column = [0, 1, 2]\n",
    "\n",
    "    # remove (i,j) from lists\n",
    "    line.remove(i-1)\n",
    "    column.remove(j-1)\n",
    "\n",
    "    return A[line, column]"
   ]
  },
  {
   "cell_type": "markdown",
   "metadata": {},
   "source": [
    "As we are working with 3x3 matrix, I create lists for the index columns and then\n",
    "I removed the (i,j) from it. Finally I returned the minor matrix using the index\n",
    "lists.\n",
    "\n",
    "Did you came up with a similar solution?\n",
    "\n",
    "So, lets see what is wrong:"
   ]
  },
  {
   "cell_type": "code",
   "execution_count": 4,
   "metadata": {},
   "outputs": [
    {
     "data": {
      "text/plain": [
       "array([ 2, 19])"
      ]
     },
     "execution_count": 4,
     "metadata": {},
     "output_type": "execute_result"
    }
   ],
   "source": [
    "           \n",
    "get_minor_ij(A, 1, 2)"
   ]
  },
  {
   "cell_type": "markdown",
   "metadata": {},
   "source": [
    "We were expecting the following result:\n",
    "\n",
    "$$\n",
    "M_{12} = \\begin{bmatrix}\n",
    "2 & 5 \\\\\n",
    "11 & 19 \n",
    "\\end{bmatrix}\n",
    "$$\n",
    "\n",
    "But the solution gave us just two elements from the minor matrix main diagonal.\n",
    "\n",
    "Lets look the index lists:\n",
    "\n",
    "```python\n",
    "line   = [1, 2]\n",
    "column = [0, 2]\n",
    "```\n",
    "\n",
    "Our result is referent to the elements in position (1, 0) and (2, 2), but we are\n",
    "missing the cross product elements, that is, the elements in position\n",
    "(1, 2) and (2, 0).\n",
    "\n",
    "One solution would be to write index lists that include the cross product, which\n",
    "in this case would be:\n",
    "\n",
    "```python\n",
    "line   = [[1, 1], [2, 2]]\n",
    "column = [[0, 2], [0, 2]]\n",
    "```\n",
    "\n",
    "This solution has some difficulties. First it is necessary to place the indexes in the correct order, second it is necessary to use the correct dimension. In this case the solution is a 2x2 matrix, so the indexing must be consistent. If you want to try\n",
    "this kind of solution, maybe `numpy.indices` may help. See more [here](https://numpy.org/doc/stable/reference/generated/numpy.indices.html#numpy.indices)."
   ]
  },
  {
   "cell_type": "markdown",
   "metadata": {},
   "source": [
    "#### Broadcasting overview\n",
    "\n",
    "The broadcast concept is quite extensive and can be difficult to understand, but don't worry as it has many very simple applications.\n",
    "\n",
    "If you want to know more about it, please see the NumPy documentation [here](https://numpy.org/doc/1.20/user/theory.broadcasting.html)\n",
    "\n",
    "\n",
    "The main idea about Broadcasting is to \"stretch\" the operation across different\n",
    "shaped arrays. Lets see a basic example:"
   ]
  },
  {
   "cell_type": "code",
   "execution_count": 5,
   "metadata": {},
   "outputs": [
    {
     "data": {
      "text/plain": [
       "array([2, 4, 6])"
      ]
     },
     "execution_count": 5,
     "metadata": {},
     "output_type": "execute_result"
    }
   ],
   "source": [
    "a = np.array([1, 2, 3])\n",
    "b = 2\n",
    "a * b"
   ]
  },
  {
   "cell_type": "markdown",
   "metadata": {},
   "source": [
    "Even though `b` does not have the same dimension as `a`, NumPy understands that the operation must be applied on each element of the `a` array.\n",
    "\n",
    "![Escalar Multiplication Broadcast](https://numpy.org/doc/1.20/_images/theory.broadcast_1.gif)"
   ]
  },
  {
   "cell_type": "markdown",
   "metadata": {},
   "source": [
    "Now, look what happens if we perform some operation between two arrays:"
   ]
  },
  {
   "cell_type": "code",
   "execution_count": 6,
   "metadata": {},
   "outputs": [
    {
     "data": {
      "text/plain": [
       "array([[ 0,  0,  0],\n",
       "       [10, 20, 30],\n",
       "       [20, 40, 60],\n",
       "       [30, 60, 90]])"
      ]
     },
     "execution_count": 6,
     "metadata": {},
     "output_type": "execute_result"
    }
   ],
   "source": [
    "a = np.array([[ 0],\n",
    "              [10],\n",
    "              [20],\n",
    "              [30]]\n",
    "            )\n",
    "\n",
    "b = np.array([1, 2, 3])\n",
    "\n",
    "a*b"
   ]
  },
  {
   "cell_type": "markdown",
   "metadata": {},
   "source": [
    "Again, `b` does not have the same dimension as `a`, but NumPy is able to perform\n",
    "the operation by stretching boot `a` and `b` arrays to same dimension.\n",
    "\n",
    "![Sum Broadcast](https://arctraining.github.io/swd6_hpp/_images/broadcasting.png)\n",
    "\n",
    "See a very similar example. This time the broadcasting is going to fail:"
   ]
  },
  {
   "cell_type": "code",
   "execution_count": 7,
   "metadata": {},
   "outputs": [
    {
     "ename": "ValueError",
     "evalue": "operands could not be broadcast together with shapes (4,) (3,) ",
     "output_type": "error",
     "traceback": [
      "\u001b[0;31m---------------------------------------------------------------------------\u001b[0m",
      "\u001b[0;31mValueError\u001b[0m                                Traceback (most recent call last)",
      "\u001b[1;32m/home/earpte/GitHub/arctraining/python-challenges/book/docs/arrays/minor-solution.ipynb Cell 17\u001b[0m in \u001b[0;36m<cell line: 3>\u001b[0;34m()\u001b[0m\n\u001b[1;32m      <a href='vscode-notebook-cell:/home/earpte/GitHub/arctraining/python-challenges/book/docs/arrays/minor-solution.ipynb#X20sZmlsZQ%3D%3D?line=0'>1</a>\u001b[0m a \u001b[39m=\u001b[39m np\u001b[39m.\u001b[39marray([\u001b[39m0\u001b[39m, \u001b[39m10\u001b[39m, \u001b[39m20\u001b[39m, \u001b[39m30\u001b[39m])\n\u001b[1;32m      <a href='vscode-notebook-cell:/home/earpte/GitHub/arctraining/python-challenges/book/docs/arrays/minor-solution.ipynb#X20sZmlsZQ%3D%3D?line=1'>2</a>\u001b[0m b \u001b[39m=\u001b[39m np\u001b[39m.\u001b[39marray([\u001b[39m1\u001b[39m, \u001b[39m2\u001b[39m, \u001b[39m3\u001b[39m])\n\u001b[0;32m----> <a href='vscode-notebook-cell:/home/earpte/GitHub/arctraining/python-challenges/book/docs/arrays/minor-solution.ipynb#X20sZmlsZQ%3D%3D?line=2'>3</a>\u001b[0m a\u001b[39m*\u001b[39;49mb\n",
      "\u001b[0;31mValueError\u001b[0m: operands could not be broadcast together with shapes (4,) (3,) "
     ]
    }
   ],
   "source": [
    "a = np.array([0, 10, 20, 30])\n",
    "b = np.array([1, 2, 3])\n",
    "a*b"
   ]
  },
  {
   "cell_type": "markdown",
   "metadata": {},
   "source": [
    "This happens because the array dimensions are not compatible for broadcasting.\n",
    "\n",
    "In the first scenario we had the shapes: (4, 1) + (1, 3). The broadcast stretch the arrays\n",
    "to (4, 3) + (4, 3).\n",
    "\n",
    "But in the second scenario, the shapes were (4) and (3) --> not compatible.\n",
    "\n",
    "*Are you confused? Let's go back to our challenge and see how we can apply this knowledge*"
   ]
  },
  {
   "cell_type": "markdown",
   "metadata": {},
   "source": [
    "#### Broadcasting Solution"
   ]
  },
  {
   "cell_type": "markdown",
   "metadata": {},
   "source": [
    "This solution is almost equal to before, the only difference is that the `line`\n",
    "index list has a different shape (3 x 1).\n",
    "\n",
    "Now the dimension of `line` and `column` are not equal, so NumPy will try to\n",
    "stretch the lists and the result will be a 2x2 matrix, ie., the solution will\n",
    "automatically include the crossed terms and arrange them in the correct\n",
    "dimensions!"
   ]
  },
  {
   "cell_type": "code",
   "execution_count": 8,
   "metadata": {},
   "outputs": [
    {
     "data": {
      "text/plain": [
       "array([[ 2,  5],\n",
       "       [11, 19]])"
      ]
     },
     "execution_count": 8,
     "metadata": {},
     "output_type": "execute_result"
    }
   ],
   "source": [
    "def get_minor_ij(A, i, j):\n",
    "\n",
    "    # create line and column lists\n",
    "    line   = [[0], [1], [2]] # shape (3x1)\n",
    "    column = [0, 1, 2] # shape (1x3)\n",
    "\n",
    "    # remove (i,j) from lists\n",
    "    line.remove([i-1]) # add []\n",
    "    column.remove(j-1)\n",
    "\n",
    "    return A[line, column]\n",
    "\n",
    "get_minor_ij(A, 1, 2)"
   ]
  },
  {
   "cell_type": "markdown",
   "metadata": {},
   "source": [
    "#### Generalizing the solution\n",
    "\n",
    "If you want to create a function that works for dimensions larger then 3, you\n",
    "can create `line` and `column` based in the shape of `A` and then reshape the\n",
    "`line` for a (nx1) array."
   ]
  },
  {
   "cell_type": "code",
   "execution_count": 9,
   "metadata": {},
   "outputs": [
    {
     "data": {
      "text/plain": [
       "array([[ 2,  5],\n",
       "       [11, 19]])"
      ]
     },
     "execution_count": 9,
     "metadata": {},
     "output_type": "execute_result"
    }
   ],
   "source": [
    "def get_minor_ij(A, i, j):\n",
    "\n",
    "    # create line and column lists\n",
    "    line = list(range(A.shape[0])) # shape (1x3)\n",
    "    column = list(range(A.shape[1])) # shape (1x3)\n",
    "\n",
    "    # remove (i,j) from lists\n",
    "    line.remove(i-1)\n",
    "    column.remove(j-1)\n",
    "\n",
    "    # reshape line \n",
    "    line = np.array(line).reshape(len(line),1)\n",
    "\n",
    "    return A[line, column]\n",
    "    \n",
    "get_minor_ij(A, 1, 2)"
   ]
  },
  {
   "cell_type": "markdown",
   "metadata": {},
   "source": [
    "Once you understand the broadcast process, you can go for fancy solutions.\n",
    "\n",
    "Here I will suggest the NumPy `ix_` function that reshapes the index\n",
    "list to fit with broadcasting. It is basic our first solution, but with a \n",
    "different reshape approach:"
   ]
  },
  {
   "cell_type": "code",
   "execution_count": 10,
   "metadata": {},
   "outputs": [
    {
     "data": {
      "text/plain": [
       "array([[ 2,  5],\n",
       "       [11, 19]])"
      ]
     },
     "execution_count": 10,
     "metadata": {},
     "output_type": "execute_result"
    }
   ],
   "source": [
    "def get_minor_ij(A, i, j):\n",
    "\n",
    "    # create line and column lists\n",
    "    line   = [0, 1, 2] # shape (1x3)\n",
    "    column = [0, 1, 2] # shape (1x3)\n",
    "\n",
    "    # remove (i,j) from lists\n",
    "    line.remove(i-1) # add []\n",
    "    column.remove(j-1)\n",
    "\n",
    "    return A[np.ix_(line, column)] # change the line shape here!\n",
    "\n",
    "get_minor_ij(A, 1, 2)"
   ]
  },
  {
   "cell_type": "markdown",
   "metadata": {},
   "source": [
    "See how `ix_` reshapes `line`:"
   ]
  },
  {
   "cell_type": "code",
   "execution_count": 11,
   "metadata": {},
   "outputs": [
    {
     "name": "stdout",
     "output_type": "stream",
     "text": [
      "[0, 1, 2] [0, 1, 2]\n",
      "(array([[0],\n",
      "       [1],\n",
      "       [2]]), array([[0, 1, 2]]))\n"
     ]
    }
   ],
   "source": [
    "line   = [0, 1, 2] # shape (1x3)\n",
    "column = [0, 1, 2] # shape (1x3)\n",
    "\n",
    "print (line, column)\n",
    "\n",
    "print (np.ix_(line, column))"
   ]
  },
  {
   "cell_type": "markdown",
   "metadata": {},
   "source": [
    "## Testing\n",
    "\n",
    "Check if your function returns the expected value using the cell below."
   ]
  },
  {
   "cell_type": "code",
   "execution_count": 12,
   "metadata": {},
   "outputs": [
    {
     "name": "stderr",
     "output_type": "stream",
     "text": [
      "test_minor11 (__main__.UnitTests) ... ok\n",
      "test_minor12 (__main__.UnitTests) ... ok\n",
      "test_minor13 (__main__.UnitTests) ... ok\n",
      "test_minor21 (__main__.UnitTests) ... ok\n",
      "test_minor22 (__main__.UnitTests) ... ok\n",
      "test_minor23 (__main__.UnitTests) ... ok\n",
      "test_minor31 (__main__.UnitTests) ... ok\n",
      "test_minor32 (__main__.UnitTests) ... ok\n",
      "test_minor33 (__main__.UnitTests) ... ok\n",
      "test_shape (__main__.UnitTests) ... ok\n",
      "test_type (__main__.UnitTests) ... ok\n",
      "\n",
      "----------------------------------------------------------------------\n",
      "Ran 11 tests in 0.006s\n",
      "\n",
      "OK\n"
     ]
    },
    {
     "data": {
      "text/plain": [
       "<unittest.main.TestProgram at 0x7f0132eb7df0>"
      ]
     },
     "execution_count": 12,
     "metadata": {},
     "output_type": "execute_result"
    }
   ],
   "source": [
    "import unittest\n",
    "\n",
    "class UnitTests(unittest.TestCase):\n",
    "    def setUp(self):\n",
    "        self.A = np.array([[ -7, 4, -2],\n",
    "                           [ 2, -3,  5],\n",
    "                           [-18, 10, 0]]\n",
    "                         )\n",
    "\n",
    "    def test_type(self):\n",
    "        self.assertTrue(isinstance(get_minor_ij(A, 1, 2), np.ndarray), 'The function should return a NumPy array')\n",
    "    def test_shape(self):\n",
    "        self.assertTrue(get_minor_ij(self.A, 1, 2).shape == (2, 2), \"The function should return an 2x2 array\")\n",
    "    def test_minor11(self):\n",
    "        self.assertEqual(get_minor_ij(self.A, 1, 1).tolist(), [[-3, 5], [10,0]])\n",
    "    def test_minor12(self):\n",
    "        self.assertEqual(get_minor_ij(self.A, 1, 2).tolist(), [[2,5], [-18,0]])\n",
    "    def test_minor13(self):\n",
    "        self.assertEqual(get_minor_ij(self.A, 1, 3).tolist(), [[2,-3],[-18,10]])\n",
    "    def test_minor21(self):\n",
    "        self.assertEqual(get_minor_ij(self.A, 2, 1).tolist(), [[4,-2],[10,0]])\n",
    "    def test_minor22(self):\n",
    "        self.assertEqual(get_minor_ij(self.A, 2, 2).tolist(), [[-7,-2],[-18,0]])\n",
    "    def test_minor23(self):\n",
    "        self.assertEqual(get_minor_ij(self.A, 2, 3).tolist(), [[-7,4],[-18,10]])\n",
    "    def test_minor31(self):\n",
    "        self.assertEqual(get_minor_ij(self.A, 3, 1).tolist(), [[4,-2],[-3,5]])\n",
    "    def test_minor32(self):\n",
    "        self.assertEqual(get_minor_ij(self.A, 3, 2).tolist(), [[-7,-2],[2, 5]])\n",
    "    def test_minor33(self):\n",
    "        self.assertEqual(get_minor_ij(self.A, 3, 3).tolist(), [[-7,4],[2,-3]])\n",
    "\n",
    "unittest.main(argv=[''], verbosity=2,exit=False)"
   ]
  }
 ],
 "metadata": {
  "kernelspec": {
   "display_name": "Python 3.10.5 ('python-challenges')",
   "language": "python",
   "name": "python3"
  },
  "language_info": {
   "codemirror_mode": {
    "name": "ipython",
    "version": 3
   },
   "file_extension": ".py",
   "mimetype": "text/x-python",
   "name": "python",
   "nbconvert_exporter": "python",
   "pygments_lexer": "ipython3",
   "version": "3.10.5"
  },
  "orig_nbformat": 4,
  "vscode": {
   "interpreter": {
    "hash": "15fe12b1f81c85e1ce82926b71c2a5fbbda376c5c354355ef572278ba1760508"
   }
  }
 },
 "nbformat": 4,
 "nbformat_minor": 2
}
