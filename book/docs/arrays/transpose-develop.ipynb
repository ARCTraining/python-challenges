{
 "cells": [
  {
   "cell_type": "markdown",
   "metadata": {},
   "source": [
    "# Write your code:  Matrix transpose\n",
    "\n",
    "> Write functions that return the transpose of a matrix A.\n",
    "\n",
    "## Rules\n",
    "\n",
    "1. Function returns an numpy array.\n",
    "2. You must not use any external function to calculate the transpose.\n",
    "3. Function should work for square and non-square matrix.\n",
    "\n",
    "## Useful Links\n",
    "\n",
    "- [Transpose](https://en.wikipedia.org/wiki/Transpose)\n",
    "\n",
    "## Transpose overview\n",
    "\n",
    "Consider a matrix $A$ of order $j\\times i$. The transpose of a matrix $A$, denoted by $A^T$, may be constructed by writing the columns of $A$ as the rows of $A^T$.\n",
    "\n",
    "Formally, in the i-th row, j-th column element of $A^T$ is the j-th row, i-th column element of $A$:\n",
    "\n",
    "$$ [A^T]_{i, j} = A_{j,i}$$\n",
    "\n",
    "\n",
    "### Example\n",
    "\n",
    "Consider the following matrix $A$:\n",
    "\n",
    "$$\n",
    "A = \\begin{bmatrix}\n",
    "1 & 2 & 3\\\\\n",
    "4 & 5 & 6\n",
    "\\end{bmatrix}\n",
    "$$\n",
    "\n",
    "The transpose is:\n",
    "\n",
    "$$\n",
    "A^T = \\begin{bmatrix}\n",
    "1 & 4\\\\\n",
    "2 & 5 \\\\\n",
    "3 & 6\n",
    "\\end{bmatrix}\n",
    "$$\n"
   ]
  },
  {
   "cell_type": "markdown",
   "metadata": {},
   "source": [
    "## Function Definition"
   ]
  },
  {
   "cell_type": "markdown",
   "metadata": {},
   "source": [
    "## Solution"
   ]
  },
  {
   "cell_type": "code",
   "execution_count": null,
   "metadata": {},
   "outputs": [],
   "source": [
    "import numpy as np\n",
    "\n",
    "A = np.array([[4, 7, 3],\n",
    "              [2, 5, 6]])"
   ]
  },
  {
   "cell_type": "code",
   "execution_count": null,
   "metadata": {},
   "outputs": [],
   "source": [
    "def get_transpose(A):\n",
    "    \n",
    "    # write your function here\n",
    "    \n",
    "get_transpose(A)"
   ]
  },
  {
   "cell_type": "markdown",
   "metadata": {},
   "source": [
    "## Testing\n",
    "\n",
    "Check if your function returns the expected value using the cell below."
   ]
  },
  {
   "cell_type": "code",
   "execution_count": null,
   "metadata": {},
   "outputs": [],
   "source": [
    "import unittest\n",
    "\n",
    "class UnitTests(unittest.TestCase):\n",
    "    def setUp(self):\n",
    "        self.A = np.array([[1, 2, 3],\n",
    "                           [4, 5, 6],\n",
    "                           [7, 8, 9]]\n",
    "                         )\n",
    "        self.R = np.array([[1, 2, 3]]\n",
    "                         )\n",
    "        self.C = np.array([[1],\n",
    "                           [2],\n",
    "                           [3]]\n",
    "                         )                         \n",
    "    def test_type(self):\n",
    "        self.assertTrue(isinstance(get_transpose(self.A), np.ndarray), 'The function should return a NumPy array')\n",
    "    def test_square(self):\n",
    "        self.assertTrue((get_transpose(self.A)==np.array([[1, 4, 7],[2, 5, 8],[3, 6, 9]])).all())\n",
    "    def test_row(self):\n",
    "        self.assertTrue((get_transpose(self.R)==np.array([[1],[2],[3]])).all())\n",
    "    def test_column(self):\n",
    "        self.assertTrue((get_transpose(self.C)==np.array([[1,2,3]])).all())\n",
    "unittest.main(argv=[''], verbosity=2,exit=False)"
   ]
  }
 ],
 "metadata": {
  "kernelspec": {
   "display_name": "Python 3.9.13 ('jupyterbook')",
   "language": "python",
   "name": "python3"
  },
  "language_info": {
   "codemirror_mode": {
    "name": "ipython",
    "version": 3
   },
   "file_extension": ".py",
   "mimetype": "text/x-python",
   "name": "python",
   "nbconvert_exporter": "python",
   "pygments_lexer": "ipython3",
   "version": "3.9.13"
  },
  "orig_nbformat": 4,
  "vscode": {
   "interpreter": {
    "hash": "619bce7eea2fa910940b5d09a332111259144ebd629f3ad31b21414c58f7104b"
   }
  }
 },
 "nbformat": 4,
 "nbformat_minor": 2
}
