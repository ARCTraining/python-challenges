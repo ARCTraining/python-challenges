{
 "cells": [
  {
   "cell_type": "markdown",
   "metadata": {},
   "source": [
    "# Solution: Arithmetic Operation\n",
    "\n",
    "> Create a function that receives a list of strings that are arithmetic problems\n",
    "> and returns the answers.\n",
    "\n",
    "## Rules\n",
    "\n",
    "1. Input should be a list of string(s).\n",
    "2. Every string should have a integer number, an operator (+ or -), and another\n",
    "   integer number - all separated by a single space.\n",
    "3. The function should return a list of integer(s), where every integer is the\n",
    "   solution for the respective arithmetic operation.\n",
    "4. For any non-valid operation, the result should be `None`.\n",
    "\n",
    "## Example\n",
    "\n",
    "Function Call\n",
    "\n",
    "```python\n",
    "arithmetic_solver([\"32 + 698\", \"3801 - 2\", \"45 + 43\", \"123 * 49\"])\n",
    "```\n",
    "\n",
    "Return:\n",
    "\n",
    "```python\n",
    "[730, 3799, 88, None]\n",
    "```\n",
    "\n",
    "## Useful Links\n",
    "\n",
    "- [String `split()` Method) Method](https://www.w3schools.com/python/ref_string_split.asp)\n",
    "- [Python String Methods](https://www.w3schools.com/python/python_ref_string.asp)\n",
    "- [`isinstance()` Function (to test variable type)](https://www.w3schools.com/python/ref_func_isinstance.asp)"
   ]
  },
  {
   "cell_type": "markdown",
   "metadata": {},
   "source": [
    "## Solution 1\n",
    "\n",
    "In this solution every step is created \"manually\" and stored in a list.\n",
    "\n",
    "If it is a downward staircase, the list is reversed."
   ]
  },
  {
   "cell_type": "code",
   "execution_count": 1,
   "metadata": {},
   "outputs": [
    {
     "data": {
      "text/plain": [
       "[730, 3799, 88, None]"
      ]
     },
     "execution_count": 1,
     "metadata": {},
     "output_type": "execute_result"
    }
   ],
   "source": [
    "def arithmetic_solver(problems):\n",
    "\n",
    "    operand1 = [problem.split()[0] for problem in problems]\n",
    "    operator = [problem.split()[1] for problem in problems]\n",
    "    operand2 = [problem.split()[2] for problem in problems]\n",
    "\n",
    "    result = []\n",
    "    for i in range(len(problems)):\n",
    "        if not operand1[i].isdigit():\n",
    "            result.append(None)\n",
    "        elif not operand2[i].isdigit():\n",
    "            result.append(None)\n",
    "        elif operator[i]==\"+\":\n",
    "            result.append(int(operand1[i]) + int(operand2[i]))\n",
    "        elif operator[i]==\"-\":\n",
    "            result.append(int(operand1[i]) - int(operand2[i]))\n",
    "        else:\n",
    "            result.append(None)\n",
    "    return result\n",
    "arithmetic_solver([\"32 + 698\", \"3801 - 2\", \"45 + 43\", \"123 + A\"])"
   ]
  },
  {
   "cell_type": "markdown",
   "metadata": {},
   "source": [
    "## Testing\n",
    "\n",
    "Check if your function returns the expected value using the cell below."
   ]
  },
  {
   "cell_type": "code",
   "execution_count": 2,
   "metadata": {},
   "outputs": [
    {
     "name": "stderr",
     "output_type": "stream",
     "text": [
      "test_error_operand1 (__main__.UnitTests) ... ok\n",
      "test_error_operand2 (__main__.UnitTests) ... ok\n",
      "test_error_operator (__main__.UnitTests) ... ok\n",
      "test_item_type (__main__.UnitTests) ... ok\n",
      "test_mix (__main__.UnitTests) ... ok\n",
      "test_sub (__main__.UnitTests) ... ok\n",
      "test_sum (__main__.UnitTests) ... ok\n",
      "test_type (__main__.UnitTests) ... ok\n",
      "\n",
      "----------------------------------------------------------------------\n",
      "Ran 8 tests in 0.004s\n",
      "\n",
      "OK\n"
     ]
    },
    {
     "data": {
      "text/plain": [
       "<unittest.main.TestProgram at 0x7fd2a5b40f70>"
      ]
     },
     "execution_count": 2,
     "metadata": {},
     "output_type": "execute_result"
    }
   ],
   "source": [
    "import unittest\n",
    "\n",
    "class UnitTests(unittest.TestCase):\n",
    "\n",
    "    def test_type(self):\n",
    "        self.assertTrue(isinstance(arithmetic_solver([\"32 + 698\", \"3801 - 2\", \"45 + 43\", \"123 + A\"]), list), 'The function should return a list')\n",
    "\n",
    "    def test_item_type(self):\n",
    "        self.assertTrue(all(isinstance(item, int) for item in arithmetic_solver([\"32 + 13\", \"301 - 25\", \"5 + 43\"])), 'The function should return a list of integers')\n",
    "\n",
    "    def test_sum(self):\n",
    "        self.assertEqual(arithmetic_solver([\"0 + 0\", \"5418 + 1\", \"0 + 12\"]), [0, 5419, 12])\n",
    "\n",
    "    def test_sub(self):\n",
    "        self.assertEqual(arithmetic_solver([\"0 - 0\", \"5418 - 1\", \"0 - 12\"]), [0, 5417, -12])\n",
    "\n",
    "    def test_mix(self):\n",
    "        self.assertEqual(arithmetic_solver([\"1 + 1\", \"5418 - 1\", \"0 - 12\"]), [2, 5417, -12])\n",
    "\n",
    "    def test_error_operator(self):\n",
    "        self.assertEqual(arithmetic_solver([\"1 + 1\", \"5418 - 1\", \"0 * 12\"]), [2, 5417, None], \"Operators different from + and - are invalid\")\n",
    "\n",
    "    def test_error_operand1(self):\n",
    "        self.assertEqual(arithmetic_solver([\"1 + 1\", \"5418.0 - 1\", \"0 + 12.0\"]), [2, None, None], \"Operants different from int are invalid\")\n",
    "\n",
    "    def test_error_operand2(self):\n",
    "        self.assertEqual(arithmetic_solver([\"1 + 1\", \"A - 1\", \"0 + B\"]), [2, None, None], \"Operants different from int are invalid\")\n",
    "\n",
    "\n",
    "unittest.main(argv=[''], verbosity=2,exit=False)"
   ]
  }
 ],
 "metadata": {
  "kernelspec": {
   "display_name": "Python 3.9.13 ('jupyterbook')",
   "language": "python",
   "name": "python3"
  },
  "language_info": {
   "codemirror_mode": {
    "name": "ipython",
    "version": 3
   },
   "file_extension": ".py",
   "mimetype": "text/x-python",
   "name": "python",
   "nbconvert_exporter": "python",
   "pygments_lexer": "ipython3",
   "version": "3.9.13"
  },
  "orig_nbformat": 4,
  "vscode": {
   "interpreter": {
    "hash": "619bce7eea2fa910940b5d09a332111259144ebd629f3ad31b21414c58f7104b"
   }
  }
 },
 "nbformat": 4,
 "nbformat_minor": 2
}
