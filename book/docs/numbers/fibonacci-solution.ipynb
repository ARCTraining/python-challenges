{
 "cells": [
  {
   "cell_type": "markdown",
   "metadata": {},
   "source": [
    "# Solution: Fibonacci\n",
    "\n",
    "Write a function that returns a Fibonacci sequence of `N` elements. Starting from 0, the first 20 terms in the Fibonacci Sequence are:\n",
    "\n",
    "`0, 1, 1, 2, 3, 5, 8, 13, 21, 34, 55, 89, 144, 233, 377, 610, 987, 1597, 2584, 4181`\n"
   ]
  },
  {
   "cell_type": "markdown",
   "metadata": {},
   "source": [
    "## Function definition"
   ]
  },
  {
   "cell_type": "code",
   "execution_count": null,
   "metadata": {},
   "outputs": [],
   "source": [
    "def get_fibonacci(N):\n",
    "\n",
    "    if (N<=0):\n",
    "        return None\n",
    "    elif (N==1):\n",
    "        return [0]\n",
    "    elif (N==2):\n",
    "        return [0,1]\n",
    "\n",
    "    fibonacci = [0,1,1]\n",
    "    for i in range(N-3):\n",
    "        fibonacci.append(fibonacci[-1]+fibonacci[-2])\n",
    "    \n",
    "    # return the fibonacci sequence\n",
    "    return fibonacci"
   ]
  },
  {
   "cell_type": "markdown",
   "metadata": {},
   "source": [
    "## Testing\n",
    "\n",
    "Check if your function returns the expected value using the cells below."
   ]
  },
  {
   "cell_type": "code",
   "execution_count": null,
   "metadata": {},
   "outputs": [],
   "source": [
    "import unittest\n",
    "\n",
    "class UnitTests(unittest.TestCase):\n",
    "    def test_type(self):\n",
    "        self.assertEqual(type(get_fibonacci(10)), type([0, 1, 1, 2, 3, 5, 8, 13, 21, 34]), 'The function should return a list')\n",
    "    def test_size(self):\n",
    "        self.assertEqual(len(get_fibonacci(500)), 500, 'The function `get_fibonacci(500)` should return a list with len=500')\n",
    "    def test_odd(self):\n",
    "        self.assertEqual(get_fibonacci(9), [0, 1, 1, 2, 3, 5, 8, 13, 21])\n",
    "    def test_even(self):\n",
    "        self.assertEqual(get_fibonacci(18), [0, 1, 1, 2, 3, 5, 8, 13, 21, 34, 55, 89, 144, 233, 377, 610, 987, 1597])\n",
    "    def test_zero(self):\n",
    "        self.assertEqual(get_fibonacci(0), None, '`get_fibonacci(0)` should return `None`')\n",
    "    def test_one(self):\n",
    "        self.assertEqual(get_fibonacci(1), [0], '`get_fibonacci(1)` should return `[0]`')\n",
    "    def test_two(self):\n",
    "        self.assertEqual(get_fibonacci(2), [0,1], '`get_fibonacci(2)` should return `[0,1]`')\n",
    "\n",
    "unittest.main(argv=[''], verbosity=2,exit=False)"
   ]
  }
 ],
 "metadata": {
  "kernelspec": {
   "display_name": "Python 3.9.7 ('energyflex1')",
   "language": "python",
   "name": "python3"
  },
  "language_info": {
   "codemirror_mode": {
    "name": "ipython",
    "version": 3
   },
   "file_extension": ".py",
   "mimetype": "text/x-python",
   "name": "python",
   "nbconvert_exporter": "python",
   "pygments_lexer": "ipython3",
   "version": "3.9.7"
  },
  "orig_nbformat": 4,
  "vscode": {
   "interpreter": {
    "hash": "5870739fa4ba71958278aff77180908fe5ce9bde60880d434d997163407a3d4c"
   }
  }
 },
 "nbformat": 4,
 "nbformat_minor": 2
}
