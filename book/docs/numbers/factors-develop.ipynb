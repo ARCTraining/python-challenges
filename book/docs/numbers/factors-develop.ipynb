{
 "cells": [
  {
   "cell_type": "markdown",
   "metadata": {},
   "source": [
    "# Write your code: Factors\n",
    "\n",
    "Write a function that returns a list of all the factors (divisors) of a given integer number."
   ]
  },
  {
   "cell_type": "markdown",
   "metadata": {},
   "source": [
    "## Function definition"
   ]
  },
  {
   "cell_type": "code",
   "execution_count": null,
   "metadata": {},
   "outputs": [],
   "source": [
    "def get_factors(x):\n",
    "\n",
    "    # write the code here\n",
    "    "
   ]
  },
  {
   "cell_type": "markdown",
   "metadata": {},
   "source": [
    "## Testing\n",
    "\n",
    "Check if your function returns the expected value using the cell below."
   ]
  },
  {
   "cell_type": "code",
   "execution_count": 1,
   "metadata": {},
   "outputs": [
    {
     "name": "stderr",
     "output_type": "stream",
     "text": [
      "test_list (__main__.UnitTests) ... ERROR\n",
      "test_list_size (__main__.UnitTests) ... ERROR\n",
      "test_result1 (__main__.UnitTests) ... ERROR\n",
      "test_result2 (__main__.UnitTests) ... ERROR\n",
      "\n",
      "======================================================================\n",
      "ERROR: test_list (__main__.UnitTests)\n",
      "----------------------------------------------------------------------\n",
      "Traceback (most recent call last):\n",
      "  File \"/tmp/ipykernel_470395/2092929949.py\", line 6, in test_list\n",
      "    self.assertEqual(type(get_factors(10)), type([10]), 'The function should return a list')\n",
      "NameError: name 'get_factors' is not defined\n",
      "\n",
      "======================================================================\n",
      "ERROR: test_list_size (__main__.UnitTests)\n",
      "----------------------------------------------------------------------\n",
      "Traceback (most recent call last):\n",
      "  File \"/tmp/ipykernel_470395/2092929949.py\", line 8, in test_list_size\n",
      "    self.assertEqual(len(get_factors(100)), 9, 'The function should return a list with lenght=9')\n",
      "NameError: name 'get_factors' is not defined\n",
      "\n",
      "======================================================================\n",
      "ERROR: test_result1 (__main__.UnitTests)\n",
      "----------------------------------------------------------------------\n",
      "Traceback (most recent call last):\n",
      "  File \"/tmp/ipykernel_470395/2092929949.py\", line 10, in test_result1\n",
      "    self.assertEqual(get_factors(100), [1, 2, 4, 5, 10, 20, 25, 50, 100])\n",
      "NameError: name 'get_factors' is not defined\n",
      "\n",
      "======================================================================\n",
      "ERROR: test_result2 (__main__.UnitTests)\n",
      "----------------------------------------------------------------------\n",
      "Traceback (most recent call last):\n",
      "  File \"/tmp/ipykernel_470395/2092929949.py\", line 12, in test_result2\n",
      "    self.assertEqual(get_factors(200), [1, 2, 4, 5, 8, 10, 20, 25, 40, 50, 100, 200])\n",
      "NameError: name 'get_factors' is not defined\n",
      "\n",
      "----------------------------------------------------------------------\n",
      "Ran 4 tests in 0.001s\n",
      "\n",
      "FAILED (errors=4)\n"
     ]
    },
    {
     "data": {
      "text/plain": [
       "<unittest.main.TestProgram at 0x7f0ef44516a0>"
      ]
     },
     "execution_count": 1,
     "metadata": {},
     "output_type": "execute_result"
    }
   ],
   "source": [
    "import unittest\n",
    "\n",
    "class UnitTests(unittest.TestCase):\n",
    "    def test_type(self):\n",
    "        self.assertEqual(type(get_factors(10)), type([10]), 'The function should return a list')\n",
    "    def test_size(self):\n",
    "        self.assertEqual(len(get_factors(100)), 9, 'The function should return a list with lenght=9')\n",
    "    def test_result_odd(self):\n",
    "        self.assertEqual(get_factors(101), [1, 101])\n",
    "    def test_result_even(self):\n",
    "        self.assertEqual(get_factors(200), [1, 2, 4, 5, 8, 10, 20, 25, 40, 50, 100, 200])\n",
    "\n",
    "unittest.main(argv=[''], verbosity=2,exit=False)"
   ]
  }
 ],
 "metadata": {
  "kernelspec": {
   "display_name": "Python 3.9.7 ('energyflex1')",
   "language": "python",
   "name": "python3"
  },
  "language_info": {
   "codemirror_mode": {
    "name": "ipython",
    "version": 3
   },
   "file_extension": ".py",
   "mimetype": "text/x-python",
   "name": "python",
   "nbconvert_exporter": "python",
   "pygments_lexer": "ipython3",
   "version": "3.9.7"
  },
  "orig_nbformat": 4,
  "vscode": {
   "interpreter": {
    "hash": "5870739fa4ba71958278aff77180908fe5ce9bde60880d434d997163407a3d4c"
   }
  }
 },
 "nbformat": 4,
 "nbformat_minor": 2
}
