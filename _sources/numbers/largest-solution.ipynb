{
 "cells": [
  {
   "cell_type": "markdown",
   "metadata": {},
   "source": [
    "# Solution: Largest Number\n",
    "\n",
    "Write functions that returns:\n",
    "\n",
    "- the largest number of 3;\n",
    "- the largest in a list of any size."
   ]
  },
  {
   "cell_type": "markdown",
   "metadata": {},
   "source": [
    "## Function definition: The largest in a list\n",
    "\n",
    "Complete the function bellow so that it returns the `largest` number in the list `numbers`."
   ]
  },
  {
   "cell_type": "code",
   "execution_count": null,
   "metadata": {},
   "outputs": [],
   "source": [
    "def get_largest(x, y, z):\n",
    "\n",
    "    # use the x value as largest value\n",
    "    largest = x\n",
    "\n",
    "    # if y is large: replace the largest value by y\n",
    "    if largest < y:\n",
    "        largest = y\n",
    "\n",
    "    # if z is large: replace the largest value by z\n",
    "    if largest < z:\n",
    "        largest = z\n",
    "\n",
    "    # return the largest value\n",
    "    return largest"
   ]
  },
  {
   "cell_type": "markdown",
   "metadata": {},
   "source": [
    "### Testing: The largest number of 3\n",
    "\n",
    "Check if your function returns the expected value using the cell below."
   ]
  },
  {
   "cell_type": "code",
   "execution_count": null,
   "metadata": {},
   "outputs": [],
   "source": [
    "import unittest\n",
    "\n",
    "class UnitTests(unittest.TestCase):\n",
    "\n",
    "    def test_first(self):\n",
    "        self.assertEqual(get_largest(100, 1, 2), 100, 'The function should return 100')\n",
    "    def test_second(self):\n",
    "        self.assertEqual(get_largest(1, 100, 2), 100, 'The function should return 100')\n",
    "    def test_third(self):\n",
    "        self.assertEqual(get_largest(1, 2, 100), 100, 'The function should return 100')\n",
    "unittest.main(argv=[''], verbosity=2,exit=False)"
   ]
  },
  {
   "cell_type": "markdown",
   "metadata": {},
   "source": [
    "## Function definition: The largest in a list\n",
    "\n",
    "Complete the function bellow so that it returns the `largest` number in the list `numbers`."
   ]
  },
  {
   "cell_type": "code",
   "execution_count": null,
   "metadata": {},
   "outputs": [],
   "source": [
    "import unittest\n",
    "\n",
    "class UnitTests(unittest.TestCase):\n",
    "    def test_type(self):\n",
    "        self.assertEqual(type(get_largest(100, 1, 2)), type(100), 'The function should return an integer.')    \n",
    "    def test_first(self):\n",
    "        self.assertEqual(get_largest(100, 1, 2), 100, 'The function should return 100')\n",
    "    def test_second(self):\n",
    "        self.assertEqual(get_largest(1, 100, 2), 100, 'The function should return 100')\n",
    "    def test_third(self):\n",
    "        self.assertEqual(get_largest(1, 2, 100), 100, 'The function should return 100')\n",
    "        \n",
    "unittest.main(argv=[''], verbosity=2,exit=False)"
   ]
  },
  {
   "cell_type": "markdown",
   "metadata": {},
   "source": [
    "### Testing: The largest in a list\n",
    "\n",
    "Check if your function returns the expected value using the cell below.\n",
    "\n",
    "Tip: The `numbers` list bellow is defined using a short syntax known as [List Comprehension](https://www.w3schools.com/python/python_lists_comprehension.asp)."
   ]
  },
  {
   "cell_type": "code",
   "execution_count": null,
   "metadata": {},
   "outputs": [],
   "source": [
    "import unittest\n",
    "\n",
    "class UnitTests(unittest.TestCase):\n",
    "    def test_type(self):\n",
    "        self.assertEqual(type(get_largest_list([1,2,3,4,5,100])), type(100), 'The function should return an integer.')\n",
    "    def test_position0(self):\n",
    "        x = [100,1,2,3,4,5,6,7,8,9]\n",
    "        self.assertEqual(get_largest_list(x), 100, 'The function should return 100')\n",
    "    def test_position3(self):\n",
    "        x = [0,1,2,100,4,5,6,7,8,9]\n",
    "        self.assertEqual(get_largest_list(x), 100, 'The function should return 100')\n",
    "    def test_position6(self):\n",
    "        x = [0,1,2,3,4,5,100,7,8,9]\n",
    "        self.assertEqual(get_largest_list(x), 100, 'The function should return 100')\n",
    "    def test_position9(self):\n",
    "        x = [0,1,2,3,4,5,6,7,8,100]\n",
    "        self.assertEqual(get_largest_list(x), 100, 'The function should return 100')\n",
    "        \n",
    "unittest.main(argv=[''], verbosity=2,exit=False)"
   ]
  }
 ],
 "metadata": {
  "kernelspec": {
   "display_name": "Python 3.9.7 ('energyflex1')",
   "language": "python",
   "name": "python3"
  },
  "language_info": {
   "codemirror_mode": {
    "name": "ipython",
    "version": 3
   },
   "file_extension": ".py",
   "mimetype": "text/x-python",
   "name": "python",
   "nbconvert_exporter": "python",
   "pygments_lexer": "ipython3",
   "version": "3.9.7"
  },
  "orig_nbformat": 4,
  "vscode": {
   "interpreter": {
    "hash": "5870739fa4ba71958278aff77180908fe5ce9bde60880d434d997163407a3d4c"
   }
  }
 },
 "nbformat": 4,
 "nbformat_minor": 2
}
