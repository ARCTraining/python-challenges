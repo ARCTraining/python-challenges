{
 "cells": [
  {
   "cell_type": "markdown",
   "metadata": {},
   "source": [
    "# Solution: Tossing Coins\n",
    "\n",
    "> Write a function that works as a coin-flipper simulator.\n",
    "> Then, write another function that calls the coin flipper function several\n",
    "> times to determine the approximate probability of\n",
    "> getting a certain result combination for `2` tosses (regardless of order)."
   ]
  },
  {
   "cell_type": "markdown",
   "metadata": {},
   "source": [
    "## Function definition"
   ]
  },
  {
   "cell_type": "markdown",
   "metadata": {},
   "source": [
    "### Coin Flipper Simulator\n",
    "\n",
    "1. Coin type: 2 faces: `head` and `tail`.\n",
    "2. Coin is fair: equal chance of flipping `head` or `tail`.\n",
    "3. The function must return a `string` value corresponding to the tossed face (`head` or `tail`).\n",
    "4. You can use any `random function` from the [`random` module](https://docs.python.org/3/library/random.html)."
   ]
  },
  {
   "cell_type": "code",
   "execution_count": null,
   "metadata": {},
   "outputs": [],
   "source": [
    "from random import choice\n",
    "\n",
    "def coin_flipper():\n",
    "    coin = choice(['head','tail'])\n",
    "    return coin"
   ]
  },
  {
   "cell_type": "markdown",
   "metadata": {},
   "source": [
    "### Probability calculator\n",
    "\n",
    "1. Function that accepts `two` `string` inputs corresponding to the desired tossed faces, where:\n",
    "   - The first input is necessary;\n",
    "   - If no second input is given, it should should default to an empty string.\n",
    "2. Function returns a `float` value between `0` and `1`.\n",
    "3. Avoid using any knowledge of combinatorics to solve this problem. Instead, take advantage of the fact that the machine can simulate millions of tosses (samples) in a very short time.\n",
    "\n",
    "\n",
    ">Since this is based on random draws, the probability will be slightly different\n",
    ">each time the code is run.\n",
    ">**So, the greater the number of samples, the more consistent the results.**"
   ]
  },
  {
   "cell_type": "markdown",
   "metadata": {},
   "source": [
    "#### Option 1: Readable solution"
   ]
  },
  {
   "cell_type": "code",
   "execution_count": null,
   "metadata": {},
   "outputs": [],
   "source": [
    "def get_probability(toss1, toss2=''):\n",
    "    N = 100000  # Define number of repetitions\n",
    "    p = 0  # initialise a probability counter\n",
    "\n",
    "    for _ in range(N):\n",
    "        coin1 = coin_flipper()  # Flip one coin\n",
    "        coin2 = coin_flipper()  # Flip another coin\n",
    "\n",
    "        # Check if you have the desired combination (evaluate all possible orders!)\n",
    "        if coin1 == toss1:\n",
    "            if coin2 == toss2 or toss2=='':\n",
    "                p+=1\n",
    "        elif coin2 == toss1:\n",
    "            if coin1 == toss2 or toss2=='':\n",
    "                p+=1\n",
    "\n",
    "    return p/N"
   ]
  },
  {
   "cell_type": "markdown",
   "metadata": {},
   "source": [
    "#### Option 2: using just one `if`\n",
    "\n",
    "It is possible concatenate the tosses results in one string:\n",
    "\n",
    "- `head` and `tail` = `headtail`\n",
    "- `tail` and `head` = `tailhead`\n",
    "- `head` and `head` = `headhead`\n",
    "- `tail` and `tail` = `tailtail`\n",
    "\n",
    "> Note that as the order is not relevant, `headtail` should be counted as `tailhead` (or vice versa).\n",
    "\n",
    "This approach makes it easy to expand the function to incorporate more than two tosses without increasing the number of `if` statements.\n",
    "\n",
    "> Note that in this solution, only one `if` is used instead of four as in the previous solution.\n"
   ]
  },
  {
   "cell_type": "code",
   "execution_count": null,
   "metadata": {},
   "outputs": [],
   "source": [
    "def get_probability(toss1, toss2=''):\n",
    "    N = 100000  # Define number of repetitions\n",
    "    p = []  # initialise an empty probability list\n",
    "    \n",
    "    for _ in range(N):\n",
    "        coin1 = coin_flipper()  # Flip one coin\n",
    "        coin2 = coin_flipper()  # Flip another coin\n",
    "        \n",
    "        # Define a string for double toss\n",
    "        two_toss = \"\".join(sorted([coin1, coin2]))  # Sorted, so tailhead = headtail\n",
    "        desired = \"\".join(sorted([toss1, toss2]))  # Sorted, so tailhead = headtail    \n",
    "\n",
    "        if desired in two_toss:\n",
    "            p.append(1)  # two_toss and desired were sorted, so no need for a second if\n",
    "\n",
    "    p = sum(p)/N\n",
    "    return p"
   ]
  },
  {
   "cell_type": "markdown",
   "metadata": {},
   "source": [
    "#### Option 3: one line solution"
   ]
  },
  {
   "cell_type": "markdown",
   "metadata": {},
   "source": [
    "Note that in the solution above the probability counter is a `list` rather than an `integer`.\n",
    "\n",
    "This change isn't necessary, and to be honest, it doesn't imply better performance. However, working with a list allows us to turn the entire `for` loop into a `List Comprehension`.\n",
    "\n",
    "The next proposed solution is exactly the same as the previous one, but uses List Comprehension which allows us to cluster everything in one line:\n",
    "\n",
    "- It's beautiful? NO\n",
    "- Is it easier to read? NO\n",
    "- It's fun? DEFINITELY.... (at least I think)"
   ]
  },
  {
   "cell_type": "code",
   "execution_count": null,
   "metadata": {},
   "outputs": [],
   "source": [
    "def get_probability(toss1, toss2=''):\n",
    "    return sum([1 for _ in range(100000) if \"\".join(sorted([toss1, toss2])) in \"\".join(sorted([coin_flipper(), coin_flipper()]))])/100000"
   ]
  },
  {
   "cell_type": "markdown",
   "metadata": {},
   "source": [
    "## Testing\n",
    "\n",
    "Check if your function returns the expected value using the cell below."
   ]
  },
  {
   "cell_type": "code",
   "execution_count": null,
   "metadata": {},
   "outputs": [],
   "source": [
    "import unittest\n",
    "\n",
    "class UnitTests(unittest.TestCase):\n",
    "    def test_coin_type(self):\n",
    "        self.assertTrue(isinstance(coin_flipper(), str), 'The function should return a string')\n",
    "    def test_coin_head_tail(self):\n",
    "        self.assertTrue(sorted(set(coin_flipper() for _ in range(100000))) == ['head', 'tail'], 'The function should return `head` or `tail`.')\n",
    "    def test_coin_fairness(self):\n",
    "        counts = [coin_flipper() for _ in range(100000)].count('head')/100000\n",
    "        self.assertAlmostEqual(counts, 0.5, places=2, msg=f'The side should be rolled with a probability of 0.50')\n",
    "\n",
    "    def test_probability_type(self):\n",
    "        self.assertTrue(isinstance(get_probability('head','head'), float), 'The function should return a float')\n",
    "    def test_probability_two_heads(self):\n",
    "        self.assertAlmostEqual(get_probability('head','head'), 1/4, places=2, msg='The function should return 0.25 for two heads.')\n",
    "    def test_probability_two_tails(self):\n",
    "        self.assertAlmostEqual(get_probability('tail','tail'), 1/4, places=2, msg='The function should return 0.25 for two tails.')\n",
    "    def test_probability_head_tail(self):\n",
    "        self.assertAlmostEqual(get_probability('head','tail'), 1/2, places=2, msg='The function should return 0.50 for one head and one tail.')\n",
    "    def test_probability_tail_head(self):\n",
    "        self.assertAlmostEqual(get_probability('tail','head'), 1/2, places=2, msg='The function should return 0.50 for one tail and one head.')\n",
    "    def test_probability_atLeast_head(self):\n",
    "        self.assertAlmostEqual(get_probability('head'), 3/4, places=2, msg='The function should return 0.75 for at least one head.')        \n",
    "    def test_probability_atLeast_tail(self):\n",
    "        self.assertAlmostEqual(get_probability('tail'), 3/4, places=2, msg='The function should return 0.75 for at least one tail.')        \n",
    "\n",
    "\n",
    "unittest.main(argv=[''], verbosity=2,exit=False)"
   ]
  }
 ],
 "metadata": {
  "kernelspec": {
   "display_name": "Python 3.10.5 ('python-challenges')",
   "language": "python",
   "name": "python3"
  },
  "language_info": {
   "codemirror_mode": {
    "name": "ipython",
    "version": 3
   },
   "file_extension": ".py",
   "mimetype": "text/x-python",
   "name": "python",
   "nbconvert_exporter": "python",
   "pygments_lexer": "ipython3",
   "version": "3.10.5"
  },
  "orig_nbformat": 4,
  "vscode": {
   "interpreter": {
    "hash": "15fe12b1f81c85e1ce82926b71c2a5fbbda376c5c354355ef572278ba1760508"
   }
  }
 },
 "nbformat": 4,
 "nbformat_minor": 2
}
