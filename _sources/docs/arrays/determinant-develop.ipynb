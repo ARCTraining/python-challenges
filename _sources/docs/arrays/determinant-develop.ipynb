{
 "cells": [
  {
   "cell_type": "markdown",
   "metadata": {},
   "source": [
    "# Write your code: Matrix Determinant\n",
    "\n",
    "> Write functions that return the determinant of square matrix of orders \n",
    "> ($2\\times2$), ($3\\times3$), and ($n\\times n$).\n",
    "\n",
    "## Rules\n",
    "\n",
    "1. Function returns a integer.\n",
    "2. You must not use any external function to calculate the determinant.\n",
    "\n",
    "## Useful Links\n",
    "\n",
    "- [Determinant](https://en.wikipedia.org/wiki/Determinant)\n",
    "- [Minor of Matrix](https://www.cuemath.com/algebra/minor-of-matrix/)\n",
    "- [Cofactor Expansion](https://textbooks.math.gatech.edu/ila/determinants-cofactors.html)"
   ]
  },
  {
   "cell_type": "markdown",
   "metadata": {},
   "source": [
    "## Function Definition"
   ]
  },
  {
   "cell_type": "code",
   "execution_count": null,
   "metadata": {},
   "outputs": [],
   "source": [
    "import numpy as np\n",
    "\n",
    "def get_minor_ij(A, i, j):\n",
    "    M = np.delete(A, i-1, axis=0) # remove a row (axis=0)\n",
    "    M = np.delete(M, j-1, axis=1) # remove a column (axis=1)\n",
    "\n",
    "    return M"
   ]
  },
  {
   "cell_type": "markdown",
   "metadata": {},
   "source": [
    "### Order 2"
   ]
  },
  {
   "cell_type": "code",
   "execution_count": null,
   "metadata": {},
   "outputs": [],
   "source": [
    "A = np.array([[ 2, 5],\n",
    "              [ 1, -3]]\n",
    "            )\n",
    "\n",
    "# numpy determinant function:\n",
    "round(np.linalg.det(A))"
   ]
  },
  {
   "cell_type": "code",
   "execution_count": null,
   "metadata": {},
   "outputs": [],
   "source": [
    "def get_determinant_2(A):\n",
    "  \n",
    "  # write your function here\n",
    "\n",
    "get_determinant_2(A)\n"
   ]
  },
  {
   "cell_type": "markdown",
   "metadata": {},
   "source": [
    "### Order 3"
   ]
  },
  {
   "cell_type": "code",
   "execution_count": null,
   "metadata": {},
   "outputs": [],
   "source": [
    "A = np.array([[ 9, 12, 18],\n",
    "              [ 2, -2,  5],\n",
    "              [11,-17, 19]]\n",
    "            )\n",
    "\n",
    "# numpy determinant function:\n",
    "round(np.linalg.det(A))"
   ]
  },
  {
   "cell_type": "code",
   "execution_count": null,
   "metadata": {},
   "outputs": [],
   "source": [
    "def get_determinant_3(A):\n",
    "\n",
    "    # write your function here\n",
    "\n",
    "get_determinant_3(A)"
   ]
  },
  {
   "cell_type": "markdown",
   "metadata": {},
   "source": [
    "## Larger Orders: recursive solution"
   ]
  },
  {
   "cell_type": "code",
   "execution_count": null,
   "metadata": {},
   "outputs": [],
   "source": [
    "A = np.array([[5, 2, 1, 4, 6],\n",
    "              [9, 4, 2, 5, 2],\n",
    "              [11, 5, 7, 3, 9],\n",
    "              [5, 6, 6, 7, 2],\n",
    "              [7, 5, 9, 3, 3]])\n",
    "\n",
    "# numpy determinant function:\n",
    "round(np.linalg.det(A))"
   ]
  },
  {
   "cell_type": "code",
   "execution_count": null,
   "metadata": {},
   "outputs": [],
   "source": [
    "def get_determinant_n(A):\n",
    "\n",
    "    # write your function here\n",
    "\n",
    "get_determinant_n(A)"
   ]
  }
 ],
 "metadata": {
  "kernelspec": {
   "display_name": "Python 3.10.5 ('python-challenges')",
   "language": "python",
   "name": "python3"
  },
  "language_info": {
   "codemirror_mode": {
    "name": "ipython",
    "version": 3
   },
   "file_extension": ".py",
   "mimetype": "text/x-python",
   "name": "python",
   "nbconvert_exporter": "python",
   "pygments_lexer": "ipython3",
   "version": "3.10.5"
  },
  "orig_nbformat": 4,
  "vscode": {
   "interpreter": {
    "hash": "15fe12b1f81c85e1ce82926b71c2a5fbbda376c5c354355ef572278ba1760508"
   }
  }
 },
 "nbformat": 4,
 "nbformat_minor": 2
}
