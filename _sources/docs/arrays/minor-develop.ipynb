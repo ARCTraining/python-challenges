{
 "cells": [
  {
   "cell_type": "markdown",
   "metadata": {},
   "source": [
    "# Write your code:  Minor of Matrix\n",
    "\n",
    "> Write a function that returns the Minor of Matrix of a 3x3 Matrix for a given\n",
    "> line $(i)$ and column $(j)$\n",
    "\n",
    "## Rules\n",
    "\n",
    "1. Function returns a Numpy ndarray of shape=2x2\n",
    "2. Function should work for all possible $i,j$ combination"
   ]
  },
  {
   "cell_type": "markdown",
   "metadata": {},
   "source": [
    "## Solution"
   ]
  },
  {
   "cell_type": "code",
   "execution_count": null,
   "metadata": {},
   "outputs": [],
   "source": [
    "import numpy as np"
   ]
  },
  {
   "cell_type": "code",
   "execution_count": null,
   "metadata": {},
   "outputs": [],
   "source": [
    "def get_minor_ij(A, i, j):\n",
    "\n",
    "    # write your code here"
   ]
  },
  {
   "cell_type": "code",
   "execution_count": null,
   "metadata": {},
   "outputs": [],
   "source": [
    "A = np.array([[ 9, 12, 18],\n",
    "              [ 2, -2,  5],\n",
    "              [11,-17, 19]]\n",
    "            )\n",
    "\n",
    "get_minor_ij(A, 2, 3)"
   ]
  },
  {
   "cell_type": "markdown",
   "metadata": {},
   "source": [
    "## Testing\n",
    "\n",
    "Check if your function returns the expected value using the cell below."
   ]
  },
  {
   "cell_type": "code",
   "execution_count": null,
   "metadata": {},
   "outputs": [],
   "source": [
    "import unittest\n",
    "\n",
    "class UnitTests(unittest.TestCase):\n",
    "    def setUp(self):\n",
    "        self.A = np.array([[ -7, 4, -2],\n",
    "                           [ 2, -3,  5],\n",
    "                           [-18, 10, 0]]\n",
    "                         )\n",
    "\n",
    "    def test_type(self):\n",
    "        self.assertTrue(isinstance(get_minor_ij(A, 1, 2), np.ndarray), 'The function should return a NumPy array')\n",
    "    def test_shape(self):\n",
    "        self.assertTrue(get_minor_ij(self.A, 1, 2).shape == (2, 2), \"The function should return an 2x2 array\")\n",
    "    def test_minor11(self):\n",
    "        self.assertEqual(get_minor_ij(self.A, 1, 1).tolist(), [[-3, 5], [10,0]])\n",
    "    def test_minor12(self):\n",
    "        self.assertEqual(get_minor_ij(self.A, 1, 2).tolist(), [[2,5], [-18,0]])\n",
    "    def test_minor13(self):\n",
    "        self.assertEqual(get_minor_ij(self.A, 1, 3).tolist(), [[2,-3],[-18,10]])\n",
    "    def test_minor21(self):\n",
    "        self.assertEqual(get_minor_ij(self.A, 2, 1).tolist(), [[4,-2],[10,0]])\n",
    "    def test_minor22(self):\n",
    "        self.assertEqual(get_minor_ij(self.A, 2, 2).tolist(), [[-7,-2],[-18,0]])\n",
    "    def test_minor23(self):\n",
    "        self.assertEqual(get_minor_ij(self.A, 2, 3).tolist(), [[-7,4],[-18,10]])\n",
    "    def test_minor31(self):\n",
    "        self.assertEqual(get_minor_ij(self.A, 3, 1).tolist(), [[4,-2],[-3,5]])\n",
    "    def test_minor32(self):\n",
    "        self.assertEqual(get_minor_ij(self.A, 3, 2).tolist(), [[-7,-2],[2, 5]])\n",
    "    def test_minor33(self):\n",
    "        self.assertEqual(get_minor_ij(self.A, 3, 3).tolist(), [[-7,4],[2,-3]])\n",
    "\n",
    "unittest.main(argv=[''], verbosity=2,exit=False)"
   ]
  }
 ],
 "metadata": {
  "kernelspec": {
   "display_name": "Python 3.10.5 ('python-challenges')",
   "language": "python",
   "name": "python3"
  },
  "language_info": {
   "codemirror_mode": {
    "name": "ipython",
    "version": 3
   },
   "file_extension": ".py",
   "mimetype": "text/x-python",
   "name": "python",
   "nbconvert_exporter": "python",
   "pygments_lexer": "ipython3",
   "version": "3.10.5"
  },
  "orig_nbformat": 4,
  "vscode": {
   "interpreter": {
    "hash": "15fe12b1f81c85e1ce82926b71c2a5fbbda376c5c354355ef572278ba1760508"
   }
  }
 },
 "nbformat": 4,
 "nbformat_minor": 2
}
