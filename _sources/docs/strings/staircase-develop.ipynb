{
 "cells": [
  {
   "cell_type": "markdown",
   "metadata": {},
   "source": [
    "# Write your code: Staircase\n",
    "\n",
    "> Write a function that returns a staircase with `n` steps using the hash `#` and underscore `_` symbols.\n",
    "\n",
    "## Rules\n",
    "\n",
    "1. The number of steps are either positive or negative values.\n",
    "2. Function returns a `string`.\n",
    "3. The steps are adjoined with the newline character `\\n`\n",
    "4. A positive number of step denotes the staircase's upward direction.\n",
    "5. A negative number of step denotes the staircase's downward direction.\n",
    "\n",
    "## Example\n",
    "\n",
    "### Upward staircase\n",
    "\n",
    "\n",
    "```python\n",
    "staircase(3)\n",
    "```\n",
    "\n",
    "output:\n",
    "```\"__#\\n_##\\n###\"```\n",
    "\n",
    "or\n",
    "\n",
    "```python\n",
    "print(staircase(3))\n",
    "```\n",
    "\n",
    "output:\n",
    "\n",
    "```python\n",
    "__#\n",
    "_##\n",
    "###\n",
    "```\n",
    "\n",
    "### Downward staircase\n",
    "\n",
    "```python\n",
    "staircase(-5)\n",
    "```\n",
    "\n",
    "output:\n",
    "```\"#####\\n_####\\n__###\\n___##\\n____#\"```\n",
    "\n",
    "or\n",
    "\n",
    "```python\n",
    "print(staircase(-5))\n",
    "```\n",
    "\n",
    "output:\n",
    "\n",
    "```python\n",
    "#####\n",
    "_####\n",
    "__###\n",
    "___##\n",
    "____#\n",
    "```\n",
    "\n",
    "## Useful Links\n",
    "\n",
    "- [`rjust()` (right justified) Method](https://www.w3schools.com/python/ref_string_rjust.asp)\n",
    "- [`format()` Method](https://www.w3schools.com/python/ref_string_format.asp)\n",
    "- [`join()` (items in a list into a string) Method](https://www.w3schools.com/python/ref_string_join.asp)\n",
    "- [Python String Methods](https://www.w3schools.com/python/python_ref_string.asp)"
   ]
  },
  {
   "cell_type": "markdown",
   "metadata": {},
   "source": [
    "## Function definition"
   ]
  },
  {
   "cell_type": "code",
   "execution_count": null,
   "metadata": {},
   "outputs": [],
   "source": [
    "def staircase(n):\n",
    "    # write your function here"
   ]
  },
  {
   "cell_type": "markdown",
   "metadata": {},
   "source": [
    "## Testing\n",
    "\n",
    "Check if your function returns the expected value using the cell below."
   ]
  },
  {
   "cell_type": "code",
   "execution_count": null,
   "metadata": {},
   "outputs": [],
   "source": [
    "import unittest\n",
    "\n",
    "class UnitTests(unittest.TestCase):\n",
    "\n",
    "    def test_coin_type(self):\n",
    "        self.assertTrue(isinstance(staircase(1), str), 'The function should return a string')\n",
    "\n",
    "    def test_negative_even(self):\n",
    "        self.assertEqual(staircase(-8), \"########\\n_#######\\n__######\\n___#####\\n____####\\n_____###\\n______##\\n_______#\")\n",
    "\n",
    "    def test_negative_odd(self):\n",
    "        self.assertEqual(staircase(-5), \"#####\\n_####\\n__###\\n___##\\n____#\")\n",
    "\n",
    "    def test_positive_even(self):\n",
    "        self.assertEqual(staircase(4), \"___#\\n__##\\n_###\\n####\")\n",
    "\n",
    "    def test_positive_odd(self):\n",
    "        self.assertEqual(staircase(7), \"______#\\n_____##\\n____###\\n___####\\n__#####\\n_######\\n#######\")\n",
    "\n",
    "unittest.main(argv=[''], verbosity=2,exit=False)"
   ]
  }
 ],
 "metadata": {
  "kernelspec": {
   "display_name": "Python 3.6.8 64-bit",
   "language": "python",
   "name": "python3"
  },
  "language_info": {
   "codemirror_mode": {
    "name": "ipython",
    "version": 3
   },
   "file_extension": ".py",
   "mimetype": "text/x-python",
   "name": "python",
   "nbconvert_exporter": "python",
   "pygments_lexer": "ipython3",
   "version": "3.6.8"
  },
  "orig_nbformat": 4,
  "vscode": {
   "interpreter": {
    "hash": "916dbcbb3f70747c44a77c7bcd40155683ae19c65e1c03b4aa3499c5328201f1"
   }
  }
 },
 "nbformat": 4,
 "nbformat_minor": 2
}
