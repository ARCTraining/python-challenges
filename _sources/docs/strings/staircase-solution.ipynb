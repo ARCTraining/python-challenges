{
 "cells": [
  {
   "cell_type": "markdown",
   "metadata": {},
   "source": [
    "# Solution: Staircase\n",
    "\n",
    "> Write a function that returns a staircase with `n` steps using the hash `#` and underscore `_` symbols.\n",
    "\n",
    "## Rules\n",
    "\n",
    "1. The number of steps are either positive or negative values.\n",
    "2. Function returns a `string`.\n",
    "3. The steps are adjoined with the newline character `\\n`\n",
    "4. A positive number of step denotes the staircase's upward direction.\n",
    "5. A negative number of step denotes the staircase's downward direction.\n",
    "\n",
    "## Example\n",
    "\n",
    "### Upward staircase\n",
    "\n",
    "\n",
    "```python\n",
    "staircase(3)\n",
    "```\n",
    "\n",
    "output:\n",
    "```\"__#\\n_##\\n###\"```\n",
    "\n",
    "or\n",
    "\n",
    "```python\n",
    "print(staircase(3))\n",
    "```\n",
    "\n",
    "output:\n",
    "\n",
    "```python\n",
    "__#\n",
    "_##\n",
    "###\n",
    "```\n",
    "\n",
    "### Downward staircase\n",
    "\n",
    "```python\n",
    "staircase(-5)\n",
    "```\n",
    "\n",
    "output:\n",
    "```\"#####\\n_####\\n__###\\n___##\\n____#\"```\n",
    "\n",
    "or\n",
    "\n",
    "```python\n",
    "print(staircase(-5))\n",
    "```\n",
    "\n",
    "output:\n",
    "\n",
    "```python\n",
    "#####\n",
    "_####\n",
    "__###\n",
    "___##\n",
    "____#\n",
    "```\n",
    "\n",
    "## Useful Links\n",
    "\n",
    "- [`rjust()` (right justified) Method](https://www.w3schools.com/python/ref_string_rjust.asp)\n",
    "- [`format()` Method](https://www.w3schools.com/python/ref_string_format.asp)\n",
    "- [`join()` (items in a list into a string) Method](https://www.w3schools.com/python/ref_string_join.asp)\n",
    "- [Python String Methods](https://www.w3schools.com/python/python_ref_string.asp)"
   ]
  },
  {
   "cell_type": "markdown",
   "metadata": {},
   "source": [
    "## Solution 1\n",
    "\n",
    "In this solution every step is created \"manually\" and stored in a list.\n",
    "\n",
    "If it is a downward staircase, the list is reversed."
   ]
  },
  {
   "cell_type": "code",
   "execution_count": 1,
   "metadata": {},
   "outputs": [],
   "source": [
    "def staircase(n):\n",
    "    stair = []\n",
    "    for i in range(abs(n)):\n",
    "        txt = '_'*(abs(n)-i-1)\n",
    "        txt += '#'*(i+1)\n",
    "        stair.append(txt)\n",
    "\n",
    "    if n < 0:\n",
    "        stair.reverse()\n",
    "\n",
    "    return \"\\n\".join(stair)"
   ]
  },
  {
   "cell_type": "markdown",
   "metadata": {},
   "source": [
    "## Solution 2\n",
    "\n",
    "Very similar to the previus solution, but the `_` symbol is added into the string using the `rjust()` method.\n",
    "\n",
    "Note that you also could do a similar solution adding the `#` symbol by using the `ljust()` method."
   ]
  },
  {
   "cell_type": "code",
   "execution_count": 2,
   "metadata": {},
   "outputs": [],
   "source": [
    "def staircase(n):\n",
    "    stair = []\n",
    "    for i in range(abs(n)):\n",
    "        txt = '#'*(i+1)\n",
    "        txt = txt.rjust(abs(n),'_')\n",
    "        stair.append(txt)\n",
    "\n",
    "    if n < 0:\n",
    "        stair.reverse()\n",
    "\n",
    "    return \"\\n\".join(stair)"
   ]
  },
  {
   "cell_type": "markdown",
   "metadata": {},
   "source": [
    "## Solution 3\n",
    "\n",
    "In this solution, instead using the `reverse()` method when we have a downward staircase, the list is build in the right order in both cases.\n",
    "\n",
    "To do this, instead using the `append()` method to add a new step to the list, we are using the `insert()` method (we can control where the new item is going to be inserted)."
   ]
  },
  {
   "cell_type": "code",
   "execution_count": 3,
   "metadata": {},
   "outputs": [],
   "source": [
    "def staircase(n):\n",
    "    m = n\n",
    "    if n<0:\n",
    "        m = 0\n",
    "\n",
    "    stair = []\n",
    "    for i in range(abs(n)):\n",
    "        txt = '#'*(i+1)\n",
    "        txt = txt.rjust(abs(n), '_')\n",
    "        stair.insert(m, txt)\n",
    "\n",
    "    return \"\\n\".join(stair)"
   ]
  },
  {
   "cell_type": "markdown",
   "metadata": {},
   "source": [
    "## Solution 4\n",
    "\n",
    "Similar to the above, but instead control where the new item will be inserted, we are going to create the steps in different order."
   ]
  },
  {
   "cell_type": "code",
   "execution_count": 4,
   "metadata": {},
   "outputs": [],
   "source": [
    "def staircase(n):    \n",
    "    stair = []\n",
    "\n",
    "    i, j, k = 1, n+1, 1\n",
    "    if n<0:\n",
    "        i, j, k = abs(n), 0, -1\n",
    "\n",
    "    for i in range(i,j,k):\n",
    "        txt = '#'*(i)\n",
    "        txt = txt.rjust(abs(n),'_')\n",
    "        stair.append(txt)\n",
    "    return \"\\n\".join(stair)"
   ]
  },
  {
   "cell_type": "markdown",
   "metadata": {},
   "source": [
    "## Testing\n",
    "\n",
    "Check if your function returns the expected value using the cell below."
   ]
  },
  {
   "cell_type": "code",
   "execution_count": 5,
   "metadata": {},
   "outputs": [
    {
     "name": "stderr",
     "output_type": "stream",
     "text": [
      "test_coin_type (__main__.UnitTests) ... ok\n",
      "test_negative_even (__main__.UnitTests) ... ok\n",
      "test_negative_odd (__main__.UnitTests) ... ok\n",
      "test_positive_even (__main__.UnitTests) ... ok\n",
      "test_positive_odd (__main__.UnitTests) ... ok\n",
      "\n",
      "----------------------------------------------------------------------\n",
      "Ran 5 tests in 0.004s\n",
      "\n",
      "OK\n"
     ]
    },
    {
     "data": {
      "text/plain": [
       "<unittest.main.TestProgram at 0x7f2a1e7c1b20>"
      ]
     },
     "execution_count": 5,
     "metadata": {},
     "output_type": "execute_result"
    }
   ],
   "source": [
    "import unittest\n",
    "\n",
    "class UnitTests(unittest.TestCase):\n",
    "\n",
    "    def test_coin_type(self):\n",
    "        self.assertTrue(isinstance(staircase(1), str), 'The function should return a string')\n",
    "\n",
    "    def test_negative_even(self):\n",
    "        self.assertEqual(staircase(-8), \"########\\n_#######\\n__######\\n___#####\\n____####\\n_____###\\n______##\\n_______#\")\n",
    "\n",
    "    def test_negative_odd(self):\n",
    "        self.assertEqual(staircase(-5), \"#####\\n_####\\n__###\\n___##\\n____#\")\n",
    "\n",
    "    def test_positive_even(self):\n",
    "        self.assertEqual(staircase(4), \"___#\\n__##\\n_###\\n####\")\n",
    "\n",
    "    def test_positive_odd(self):\n",
    "        self.assertEqual(staircase(7), \"______#\\n_____##\\n____###\\n___####\\n__#####\\n_######\\n#######\")\n",
    "\n",
    "unittest.main(argv=[''], verbosity=2,exit=False)"
   ]
  }
 ],
 "metadata": {
  "kernelspec": {
   "display_name": "Python 3.9.13 ('jupyterbook')",
   "language": "python",
   "name": "python3"
  },
  "language_info": {
   "codemirror_mode": {
    "name": "ipython",
    "version": 3
   },
   "file_extension": ".py",
   "mimetype": "text/x-python",
   "name": "python",
   "nbconvert_exporter": "python",
   "pygments_lexer": "ipython3",
   "version": "3.9.13"
  },
  "orig_nbformat": 4,
  "vscode": {
   "interpreter": {
    "hash": "619bce7eea2fa910940b5d09a332111259144ebd629f3ad31b21414c58f7104b"
   }
  }
 },
 "nbformat": 4,
 "nbformat_minor": 2
}
