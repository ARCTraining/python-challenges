{
 "cells": [
  {
   "cell_type": "markdown",
   "metadata": {},
   "source": [
    "# Write your code: Arithmetic Operation\n",
    "\n",
    "> Create a function that receives a list of strings that are arithmetic problems\n",
    "> and returns the answers.\n",
    "\n",
    "## Rules\n",
    "\n",
    "1. Input should be a **list of string(s)**.\n",
    "2. Every string should have a **integer** number, an **operator** (+ or -), and another\n",
    "   **integer** number - all separated by a single space.\n",
    "3. The function should return a **list of integer(s)**, where every integer is the\n",
    "   solution for the respective arithmetic operation.\n",
    "4. For any non-valid operation, the result should be `None`.\n",
    "\n",
    "## Example\n",
    "\n",
    "Function Call\n",
    "\n",
    "```python\n",
    "arithmetic_solver([\"32 + 698\", \"3801 - 2\", \"45 + 43\", \"123 * 49\"])\n",
    "```\n",
    "\n",
    "Return:\n",
    "\n",
    "```python\n",
    "[730, 3799, 88, None]\n",
    "```\n",
    "\n",
    "## Useful Links\n",
    "\n",
    "- [String `split()` Method) Method](https://www.w3schools.com/python/ref_string_split.asp)\n",
    "- [Python String Methods](https://www.w3schools.com/python/python_ref_string.asp)\n",
    "- [`isinstance()` Function (to test variable type)](https://www.w3schools.com/python/ref_func_isinstance.asp)"
   ]
  },
  {
   "cell_type": "markdown",
   "metadata": {},
   "source": [
    "## Function definition"
   ]
  },
  {
   "cell_type": "code",
   "execution_count": null,
   "metadata": {},
   "outputs": [],
   "source": [
    "def arithmetic_solver(problems):\n",
    "    # write your function here"
   ]
  },
  {
   "cell_type": "markdown",
   "metadata": {},
   "source": [
    "## Testing\n",
    "\n",
    "Check if your function returns the expected value using the cell below."
   ]
  }
 ],
 "metadata": {
  "kernelspec": {
   "display_name": "Python 3.6.8 64-bit",
   "language": "python",
   "name": "python3"
  },
  "language_info": {
   "codemirror_mode": {
    "name": "ipython",
    "version": 3
   },
   "file_extension": ".py",
   "mimetype": "text/x-python",
   "name": "python",
   "nbconvert_exporter": "python",
   "pygments_lexer": "ipython3",
   "version": "3.6.8"
  },
  "orig_nbformat": 4,
  "vscode": {
   "interpreter": {
    "hash": "916dbcbb3f70747c44a77c7bcd40155683ae19c65e1c03b4aa3499c5328201f1"
   }
  }
 },
 "nbformat": 4,
 "nbformat_minor": 2
}
