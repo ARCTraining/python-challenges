{
 "cells": [
  {
   "cell_type": "markdown",
   "metadata": {},
   "source": [
    "# Write your code:  Number of Digits\n",
    "\n",
    "> Write a function that returns the number of digits for a given integer number.\n",
    "\n",
    "## Rules\n",
    "\n",
    "1. Input: integer (`int`) number (`+` or `-`)\n",
    "2. Solve this challenge without using `strings` or any `external` package.\n",
    "3. The function must return a `integer` value corresponding to the number of digits of the input number."
   ]
  },
  {
   "cell_type": "markdown",
   "metadata": {},
   "source": [
    "## Function definition"
   ]
  },
  {
   "cell_type": "code",
   "execution_count": null,
   "metadata": {},
   "outputs": [],
   "source": [
    "def get_digits(n):\n",
    "    #write your function here"
   ]
  },
  {
   "cell_type": "markdown",
   "metadata": {},
   "source": [
    "## Testing\n",
    "\n",
    "Check if your function returns the expected value using the cell below."
   ]
  },
  {
   "cell_type": "code",
   "execution_count": null,
   "metadata": {},
   "outputs": [],
   "source": [
    "import unittest\n",
    "\n",
    "class UnitTests(unittest.TestCase):\n",
    "    def test_type(self):\n",
    "        self.assertTrue(isinstance(get_digits(13124), int), 'The function should return an integer.')\n",
    "    def test1(self):\n",
    "        self.assertEqual(get_digits(13124), 5)\n",
    "    def test2(self):\n",
    "        self.assertEqual(get_digits(0), 1)\n",
    "    def test3(self):\n",
    "        self.assertEqual(get_digits(-12381428), 8)\n",
    "    def test4(self):\n",
    "        self.assertEqual(get_digits(12), 2)\n",
    "    def test5(self):\n",
    "        self.assertEqual(get_digits(42), 2)\n",
    "    def test6(self):\n",
    "        self.assertEqual(get_digits(1000), 4)\n",
    "    def test7(self):\n",
    "        self.assertEqual(get_digits(136), 3)\n",
    "    def test8(self):\n",
    "        self.assertEqual(get_digits(1000000000), 10)\n",
    "    def test9(self):\n",
    "        self.assertEqual(get_digits(2147483647), 10)\n",
    "unittest.main(argv=[''], verbosity=2,exit=False)  "
   ]
  }
 ],
 "metadata": {
  "kernelspec": {
   "display_name": "Python 3.9.13 ('jupyterbook')",
   "language": "python",
   "name": "python3"
  },
  "language_info": {
   "codemirror_mode": {
    "name": "ipython",
    "version": 3
   },
   "file_extension": ".py",
   "mimetype": "text/x-python",
   "name": "python",
   "nbconvert_exporter": "python",
   "pygments_lexer": "ipython3",
   "version": "3.9.13"
  },
  "orig_nbformat": 4,
  "vscode": {
   "interpreter": {
    "hash": "619bce7eea2fa910940b5d09a332111259144ebd629f3ad31b21414c58f7104b"
   }
  }
 },
 "nbformat": 4,
 "nbformat_minor": 2
}
